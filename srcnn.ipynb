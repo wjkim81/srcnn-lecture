{
 "cells": [
  {
   "cell_type": "code",
   "execution_count": 1,
   "metadata": {},
   "outputs": [],
   "source": [
    "import os\n",
    "import easydict\n",
    "import time\n",
    "\n",
    "import numpy as np\n",
    "import cv2\n",
    "import math\n",
    "\n",
    "import torch\n",
    "import torch.nn as nn\n",
    "import torch.utils.data as data\n",
    "import torch.optim as optim\n",
    "\n",
    "from torch.utils import data as D\n",
    "from torch.utils.data import DataLoader\n",
    "\n",
    "from tqdm import tqdm\n",
    "import glob"
   ]
  },
  {
   "cell_type": "code",
   "execution_count": 2,
   "metadata": {
    "scrolled": true
   },
   "outputs": [
    {
     "name": "stdout",
     "output_type": "stream",
     "text": [
      "{'resume': False, 'resume_best': False, 'multi_gpu': True, 'use_cuda': True, 'device': 'cpu', 'n_epochs': 100, 'batch_size': 60, 'start_epoch': 1, 'lr': 0.0001, 'b1': 0.9, 'b2': 0.999, 'checkpoint_dir': './checkpoin_dir', 'train_dir': '../../data/super-resolution/div2k_100/train_patches_x4lr64', 'valid_dir': '../../data/super-resolution/div2k_100/valid_patches_x4lr64', 'test_dir': '../../data/super-resolution/div2k_100/test_images', 'test_result_dir': '../../data/super-resolution/div2k_100/test_result', 'lr_img': 64, 'res_scale': 4, 'n_channels': 3}\n"
     ]
    }
   ],
   "source": [
    "opt = easydict.EasyDict({\n",
    "    \"resume\": False,\n",
    "    \"resume_best\": False,\n",
    "    \n",
    "    \"multi_gpu\": True,\n",
    "    \"use_cuda\": True,\n",
    "    \"device\": 'cpu',\n",
    "    \n",
    "    \"n_epochs\": 100,\n",
    "    \"batch_size\": 60,\n",
    "    \"start_epoch\": 1,\n",
    "    \"lr\": 1e-4, # Adam: learning rate\n",
    "    \"b1\": 0.9, # Adam: decay of first order momentum of gradient\n",
    "    \"b2\": 0.999, # Adam: decay of second order momentum of gradient\n",
    "    \n",
    "    \"checkpoint_dir\": './checkpoin_dir',\n",
    "    \"data_dir\": '../../data/super-resolution/div2k_100',\n",
    "    \"train_dir\": None,\n",
    "    \"valid_dir\": None,\n",
    "    \"test_dir\": None,\n",
    "    \"test_result_dir\": None,\n",
    "    \n",
    "    \"lr_img\": 64,\n",
    "    \"res_scale\": 4,\n",
    "    \"n_channels\": 3\n",
    "})\n",
    "\n",
    "opt.train_dir = os.path.join(opt.data_dir, \"train_patches_x\" + str(opt.res_scale) + \"lr\" + str(opt.lr_img))\n",
    "opt.valid_dir = os.path.join(opt.data_dir, \"valid_patches_x\" + str(opt.res_scale) + \"lr\" + str(opt.lr_img))\n",
    "opt.test_images = os.path.join(opt.data_dir, \"test_images_x\")\n",
    "opt.test_result_dir = os.path.join(opt.data_dir, \"test_result\")\n",
    "\n",
    "print(opt)"
   ]
  },
  {
   "cell_type": "code",
   "execution_count": 3,
   "metadata": {},
   "outputs": [],
   "source": [
    "def normalize_img(img):\n",
    "    img = img / 255.\n",
    "    img = img.astype(np.float32)\n",
    "    return img"
   ]
  },
  {
   "cell_type": "code",
   "execution_count": 4,
   "metadata": {},
   "outputs": [],
   "source": [
    "class DatasetFromFolder(data.Dataset):\n",
    "    def __init__(self, data_dir):\n",
    "        super(DatasetFromFolder, self).__init__()\n",
    "\n",
    "        lr_dir = os.path.join(data_dir, 'lr')\n",
    "        hr_dir = os.path.join(data_dir, 'hr')\n",
    "        \n",
    "        self.dsets = {}\n",
    "        self.dsets['lr'] = [os.path.join(lr_dir, x) for x in os.listdir(lr_dir)]\n",
    "        self.dsets['hr'] = [os.path.join(hr_dir, x) for x in os.listdir(hr_dir)]\n",
    "        self.dsets['file_name'] = os.listdir(hr_dir)\n",
    "\n",
    "    def __getitem__(self, idx):\n",
    "        input = cv2.imread(self.dsets['lr'][idx])\n",
    "        target = cv2.imread(self.dsets['hr'][idx])\n",
    "        file_name = self.dsets['file_name'][idx]\n",
    "\n",
    "        input = cv2.resize(input, (target.shape[1], target.shape[0]), interpolation=cv2.INTER_CUBIC)\n",
    "        \n",
    "        input = normalize_img(input)\n",
    "        target = normalize_img(target)\n",
    "\n",
    "        input = np.transpose(input, (2, 0, 1))\n",
    "        target = np.transpose(target, (2, 0, 1))\n",
    "\n",
    "        input = torch.from_numpy(input).type(torch.FloatTensor)\n",
    "        target = torch.from_numpy(target).type(torch.FloatTensor)\n",
    "\n",
    "        return input, target, file_name\n",
    "\n",
    "    def __len__(self):\n",
    "        return len(self.dsets['lr'])"
   ]
  },
  {
   "cell_type": "code",
   "execution_count": 5,
   "metadata": {},
   "outputs": [],
   "source": [
    "class MeanShift(nn.Conv2d):\n",
    "    def __init__(\n",
    "        self, rgb_range,\n",
    "        rgb_mean=(0.4488, 0.4371, 0.4040), rgb_std=(1.0, 1.0, 1.0), sign=-1):\n",
    "\n",
    "        super(MeanShift, self).__init__(3, 3, kernel_size=1)\n",
    "        std = torch.Tensor(rgb_std)\n",
    "        self.weight.data = torch.eye(3).view(3, 3, 1, 1) / std.view(3, 1, 1, 1)\n",
    "        self.bias.data = sign * rgb_range * torch.Tensor(rgb_mean) / std\n",
    "        for p in self.parameters():\n",
    "            p.requires_grad = False"
   ]
  },
  {
   "cell_type": "code",
   "execution_count": 6,
   "metadata": {
    "scrolled": true
   },
   "outputs": [],
   "source": [
    "class SRCNN(nn.Module):\n",
    "    def __init__(self, opt):\n",
    "        super(SRCNN, self).__init__()\n",
    "        pix_range = 1.0\n",
    "        \n",
    "        self.sub_mean = MeanShift(pix_range)\n",
    "        self.add_mean = MeanShift(pix_range, sign=1)\n",
    "        \n",
    "        self.conv1 = nn.Conv2d(opt.n_channels, 64, kernel_size=9, padding=4)\n",
    "        self.relu1 = nn.ReLU()\n",
    "        self.conv2 = nn.Conv2d(64, 32, kernel_size=1, padding=0)\n",
    "        self.relu2 = nn.ReLU()\n",
    "        self.conv3 = nn.Conv2d(32, opt.n_channels, kernel_size=5, padding=2)\n",
    "\n",
    "    def forward(self, x):\n",
    "        x = self.sub_mean(x)\n",
    "        x = self.relu1(self.conv1(x))\n",
    "        x = self.relu2(self.conv2(x))\n",
    "        x = self.conv3(x)\n",
    "        \n",
    "        out = self.add_mean(x)\n",
    "        return out"
   ]
  },
  {
   "cell_type": "code",
   "execution_count": 7,
   "metadata": {},
   "outputs": [],
   "source": [
    "def save_checkpoint(srcnn, epoch, loss):\n",
    "    checkpoint_dir = os.path.abspath(opt.checkpoint_dir)\n",
    "    if not os.path.exists(checkpoint_dir):\n",
    "        os.makedirs(checkpoint_dir)\n",
    "    checkpoint_path = os.path.join(checkpoint_dir, \"models_epoch_%04d_loss_%.6f.pth\" % (epoch, loss))\n",
    "    \n",
    "    if torch.cuda.device_count() > 1 and opt.multi_gpu:\n",
    "        state = {\"epoch\": epoch, \"srcnn\": srcnn.module}\n",
    "    else:\n",
    "        state = {\"epoch\": epoch, \"srcnn\": srcnn}\n",
    "\n",
    "    torch.save(state, checkpoint_path)\n",
    "    print(\"Checkpoint saved to {}\".format(checkpoint_path))"
   ]
  },
  {
   "cell_type": "code",
   "execution_count": 8,
   "metadata": {},
   "outputs": [],
   "source": [
    "def load_model(checkpoint_dir):\n",
    "    # we will check from last, best, and specific epoch_num model\n",
    "    checkpoint_list = glob.glob(os.path.join(checkpoint_dir, \"*.pth\"))\n",
    "    checkpoint_list.sort()\n",
    "\n",
    "    if opt.resume_best:\n",
    "        loss_list = list(map(lambda x: float(os.path.basename(x).split('_')[4][:-4]), checkpoint_list))\n",
    "        best_loss_idx = loss_list.index(min(loss_list))\n",
    "        checkpoint_path = checkpoint_list[best_loss_idx]\n",
    "    else:\n",
    "        checkpoint_path = checkpoint_list[len(checkpoint_list) - 1]\n",
    "\n",
    "    srcnn = SRCNN(opt)\n",
    "\n",
    "    if os.path.isfile(checkpoint_path):\n",
    "        print(\"=> loading checkpoint '{}'\".format(checkpoint_path))\n",
    "        checkpoint = torch.load(checkpoint_path)\n",
    "        \n",
    "        n_epoch = checkpoint['epoch']\n",
    "        srcnn.load_state_dict(checkpoint['srcnn'].state_dict())\n",
    "        print(\"=> loaded checkpoint '{}' (epoch {})\"\n",
    "                .format(checkpoint_path, n_epoch))\n",
    "    else:\n",
    "        print(\"=> no checkpoint found at '{}'\".format(checkpoint_path))\n",
    "        n_epoch = 0\n",
    "\n",
    "    return n_epoch + 1, srcnn"
   ]
  },
  {
   "cell_type": "code",
   "execution_count": 9,
   "metadata": {},
   "outputs": [],
   "source": [
    "def train(opt, model, optimizer, data_loader, loss_criterion):\n",
    "    print(\"===> Training\")\n",
    "    start_time = time.time()\n",
    "\n",
    "    total_loss = 0.0\n",
    "    total_psnr = 0.0\n",
    "\n",
    "    for iteration, batch in enumerate(tqdm(data_loader), 1):\n",
    "        x, target = batch[0], batch[1]\n",
    "        if opt.use_cuda:\n",
    "            x = x.to(opt.device)\n",
    "            target = target.to(opt.device)\n",
    "\n",
    "        out = model(x)\n",
    "\n",
    "        loss = loss_criterion(out, target)\n",
    "\n",
    "        optimizer.zero_grad()\n",
    "        loss.backward()\n",
    "        optimizer.step()\n",
    "\n",
    "        total_loss += loss\n",
    "        psnr = 10 * math.log10(1 / loss.item())\n",
    "        total_psnr += psnr\n",
    "\n",
    "    total_loss = total_loss / iteration\n",
    "    total_psnr = total_psnr / iteration\n",
    "    \n",
    "    print(\"Training %.2fs => Epoch[%d/%d]: Loss: %.5f PSNR: %.5f\" %\n",
    "        (time.time() - start_time, opt.epoch_num, opt.n_epochs, total_loss, total_psnr))\n",
    "\n",
    "    return (total_loss, total_psnr)"
   ]
  },
  {
   "cell_type": "code",
   "execution_count": 10,
   "metadata": {},
   "outputs": [],
   "source": [
    "def evaluate(opt, model, data_loader, loss_criterion):\n",
    "    print(\"===> Validation\")\n",
    "    start_time = time.time()\n",
    "\n",
    "    total_loss = 0.0\n",
    "    total_psnr = 0.0\n",
    "    with torch.no_grad():\n",
    "        for iteration, batch in enumerate(tqdm(data_loader), 1):\n",
    "            x, target = batch[0], batch[1]\n",
    "\n",
    "            if opt.use_cuda:\n",
    "                x = x.to(opt.device)\n",
    "                target = target.to(opt.device)\n",
    "\n",
    "            out = model(x)\n",
    "            \n",
    "            loss = loss_criterion(out, target)\n",
    "            total_loss += loss\n",
    "\n",
    "            psnr = 10 * math.log10(1 / loss.item())\n",
    "            total_psnr += psnr\n",
    "\n",
    "    total_loss = total_loss / iteration\n",
    "    total_psnr = total_psnr / iteration\n",
    "    \n",
    "    print(\"Validation %.2fs => Epoch[%d/%d]: Loss: %.5f PSNR: %.5f\" %\n",
    "        (time.time() - start_time, opt.epoch_num, opt.n_epochs, total_loss, total_psnr))\n",
    "\n",
    "    return (total_loss, total_psnr)"
   ]
  },
  {
   "cell_type": "code",
   "execution_count": 11,
   "metadata": {},
   "outputs": [],
   "source": [
    "def run_train(opt, training_data_loader, validation_data_loader):\n",
    "    # Define what device we are using\n",
    "    if not os.path.exists(opt.checkpoint_dir):\n",
    "        os.makedirs(opt.checkpoint_dir)\n",
    "\n",
    "    log_file = os.path.join(opt.checkpoint_dir, \"srcnn_log.csv\")\n",
    "\n",
    "    print('[Initialize networks for training]')\n",
    "    srcnn = SRCNN(opt)\n",
    "    l2_criterion = nn.MSELoss()\n",
    "    print(srcnn)\n",
    "\n",
    "    # optionally resume from a checkpoint\n",
    "    if opt.resume:\n",
    "        opt.start_epoch, srcnn = load_model(opt.checkpoint_dir)\n",
    "    else:\n",
    "        with open(log_file, mode='w') as f:\n",
    "            f.write(\"epoch,train_loss,valid_loss\\n\")\n",
    "\n",
    "    print(\"===> Setting GPU\")\n",
    "    print(\"CUDA Available: \", torch.cuda.is_available())\n",
    "    if opt.use_cuda and torch.cuda.is_available():\n",
    "        opt.use_cuda = True\n",
    "        opt.device = 'cuda'\n",
    "    else:\n",
    "        opt.use_cuda = False\n",
    "        opt.device = 'cpu'\n",
    "        \n",
    "    if torch.cuda.device_count() > 1 and opt.multi_gpu:\n",
    "        print(\"Use \" + str(torch.cuda.device_count()) + \" GPUs\")\n",
    "        srcnn = nn.DataParallel(srcnn)\n",
    "\n",
    "    if opt.use_cuda:\n",
    "        srcnn = srcnn.to(opt.device)\n",
    "        l2_criterion = l2_criterion.to(opt.device)\n",
    "\n",
    "    print(\"===> Setting Optimizer\")\n",
    "    optimizer = torch.optim.Adam(srcnn.parameters(),  lr=opt.lr, betas=(opt.b1, opt.b2))\n",
    "\n",
    "    for epoch in range(opt.start_epoch, opt.n_epochs):\n",
    "        opt.epoch_num = epoch\n",
    "        train_loss, train_psnr = train(opt, srcnn, optimizer, training_data_loader, loss_criterion=l2_criterion)\n",
    "        valid_loss, valid_psnr = evaluate(opt, srcnn, validation_data_loader, loss_criterion=l2_criterion)\n",
    "\n",
    "        with open(log_file, mode='a') as f:\n",
    "            f.write(\"%d,%08f,%08f,%08f,%08f\\n\" % (\n",
    "                epoch,\n",
    "                train_loss,\n",
    "                train_psnr,\n",
    "                valid_loss,\n",
    "                valid_psnr\n",
    "            ))\n",
    "        save_checkpoint(srcnn, epoch, valid_loss)"
   ]
  },
  {
   "cell_type": "code",
   "execution_count": 12,
   "metadata": {
    "scrolled": false
   },
   "outputs": [
    {
     "name": "stdout",
     "output_type": "stream",
     "text": [
      "train_dir is: ../../data/super-resolution/div2k_100/train_patches_x4lr64\n",
      "valid_dir is: ../../data/super-resolution/div2k_100/valid_patches_x4lr64\n",
      "[Initialize networks for training]\n",
      "SRCNN(\n",
      "  (sub_mean): MeanShift(3, 3, kernel_size=(1, 1), stride=(1, 1))\n",
      "  (add_mean): MeanShift(3, 3, kernel_size=(1, 1), stride=(1, 1))\n",
      "  (conv1): Conv2d(3, 64, kernel_size=(9, 9), stride=(1, 1), padding=(4, 4))\n",
      "  (relu1): ReLU()\n",
      "  (conv2): Conv2d(64, 32, kernel_size=(1, 1), stride=(1, 1))\n",
      "  (relu2): ReLU()\n",
      "  (conv3): Conv2d(32, 3, kernel_size=(5, 5), stride=(1, 1), padding=(2, 2))\n",
      ")\n",
      "===> Setting GPU\n",
      "CUDA Available:  True\n",
      "===> Setting Optimizer\n",
      "===> Training\n"
     ]
    },
    {
     "name": "stderr",
     "output_type": "stream",
     "text": [
      "100%|██████████████████████████████████████████████████████████████████████████████████| 59/59 [00:39<00:00,  1.73it/s]\n"
     ]
    },
    {
     "name": "stdout",
     "output_type": "stream",
     "text": [
      "Training 39.84s => Epoch[1/100]: Loss: 0.03209 PSNR: 15.84657\n",
      "===> Validation\n"
     ]
    },
    {
     "name": "stderr",
     "output_type": "stream",
     "text": [
      "100%|████████████████████████████████████████████████████████████████████████████████████| 9/9 [00:04<00:00,  2.00it/s]\n"
     ]
    },
    {
     "name": "stdout",
     "output_type": "stream",
     "text": [
      "Validation 4.53s => Epoch[1/100]: Loss: 0.01283 PSNR: 19.42323\n"
     ]
    },
    {
     "name": "stderr",
     "output_type": "stream",
     "text": [
      "C:\\Users\\Kim Wonjin\\Anaconda3\\envs\\pytorch\\lib\\site-packages\\torch\\serialization.py:256: UserWarning: Couldn't retrieve source code for container of type SRCNN. It won't be checked for correctness upon loading.\n",
      "  \"type \" + obj.__name__ + \". It won't be checked \"\n",
      "C:\\Users\\Kim Wonjin\\Anaconda3\\envs\\pytorch\\lib\\site-packages\\torch\\serialization.py:256: UserWarning: Couldn't retrieve source code for container of type MeanShift. It won't be checked for correctness upon loading.\n",
      "  \"type \" + obj.__name__ + \". It won't be checked \"\n"
     ]
    },
    {
     "name": "stdout",
     "output_type": "stream",
     "text": [
      "Checkpoint saved to D:\\workspaces\\srcnn\\checkpoin_dir\\models_epoch_0001_loss_0.012834.pth\n",
      "===> Training\n"
     ]
    },
    {
     "name": "stderr",
     "output_type": "stream",
     "text": [
      "100%|██████████████████████████████████████████████████████████████████████████████████| 59/59 [00:38<00:00,  1.82it/s]\n"
     ]
    },
    {
     "name": "stdout",
     "output_type": "stream",
     "text": [
      "Training 38.03s => Epoch[2/100]: Loss: 0.00910 PSNR: 20.49013\n",
      "===> Validation\n"
     ]
    },
    {
     "name": "stderr",
     "output_type": "stream",
     "text": [
      "100%|████████████████████████████████████████████████████████████████████████████████████| 9/9 [00:04<00:00,  1.95it/s]\n"
     ]
    },
    {
     "name": "stdout",
     "output_type": "stream",
     "text": [
      "Validation 4.60s => Epoch[2/100]: Loss: 0.00712 PSNR: 21.77862\n",
      "Checkpoint saved to D:\\workspaces\\srcnn\\checkpoin_dir\\models_epoch_0002_loss_0.007117.pth\n",
      "===> Training\n"
     ]
    },
    {
     "name": "stderr",
     "output_type": "stream",
     "text": [
      "100%|██████████████████████████████████████████████████████████████████████████████████| 59/59 [00:37<00:00,  1.83it/s]\n"
     ]
    },
    {
     "name": "stdout",
     "output_type": "stream",
     "text": [
      "Training 37.73s => Epoch[3/100]: Loss: 0.00656 PSNR: 21.85748\n",
      "===> Validation\n"
     ]
    },
    {
     "name": "stderr",
     "output_type": "stream",
     "text": [
      "100%|████████████████████████████████████████████████████████████████████████████████████| 9/9 [00:04<00:00,  1.98it/s]\n"
     ]
    },
    {
     "name": "stdout",
     "output_type": "stream",
     "text": [
      "Validation 4.62s => Epoch[3/100]: Loss: 0.00600 PSNR: 22.53069\n",
      "Checkpoint saved to D:\\workspaces\\srcnn\\checkpoin_dir\\models_epoch_0003_loss_0.005997.pth\n",
      "===> Training\n"
     ]
    },
    {
     "name": "stderr",
     "output_type": "stream",
     "text": [
      "100%|██████████████████████████████████████████████████████████████████████████████████| 59/59 [00:38<00:00,  1.82it/s]\n"
     ]
    },
    {
     "name": "stdout",
     "output_type": "stream",
     "text": [
      "Training 38.31s => Epoch[4/100]: Loss: 0.00594 PSNR: 22.29736\n",
      "===> Validation\n"
     ]
    },
    {
     "name": "stderr",
     "output_type": "stream",
     "text": [
      "100%|████████████████████████████████████████████████████████████████████████████████████| 9/9 [00:04<00:00,  1.96it/s]\n"
     ]
    },
    {
     "name": "stdout",
     "output_type": "stream",
     "text": [
      "Validation 4.66s => Epoch[4/100]: Loss: 0.00502 PSNR: 23.23816\n",
      "Checkpoint saved to D:\\workspaces\\srcnn\\checkpoin_dir\\models_epoch_0004_loss_0.005024.pth\n",
      "===> Training\n"
     ]
    },
    {
     "name": "stderr",
     "output_type": "stream",
     "text": [
      "100%|██████████████████████████████████████████████████████████████████████████████████| 59/59 [00:38<00:00,  1.80it/s]\n"
     ]
    },
    {
     "name": "stdout",
     "output_type": "stream",
     "text": [
      "Training 38.39s => Epoch[5/100]: Loss: 0.00532 PSNR: 22.78659\n",
      "===> Validation\n"
     ]
    },
    {
     "name": "stderr",
     "output_type": "stream",
     "text": [
      "100%|████████████████████████████████████████████████████████████████████████████████████| 9/9 [00:04<00:00,  1.97it/s]\n"
     ]
    },
    {
     "name": "stdout",
     "output_type": "stream",
     "text": [
      "Validation 4.54s => Epoch[5/100]: Loss: 0.00402 PSNR: 24.21188\n",
      "Checkpoint saved to D:\\workspaces\\srcnn\\checkpoin_dir\\models_epoch_0005_loss_0.004015.pth\n",
      "===> Training\n"
     ]
    },
    {
     "name": "stderr",
     "output_type": "stream",
     "text": [
      "100%|██████████████████████████████████████████████████████████████████████████████████| 59/59 [00:38<00:00,  1.86it/s]\n"
     ]
    },
    {
     "name": "stdout",
     "output_type": "stream",
     "text": [
      "Training 38.03s => Epoch[6/100]: Loss: 0.00479 PSNR: 23.23224\n",
      "===> Validation\n"
     ]
    },
    {
     "name": "stderr",
     "output_type": "stream",
     "text": [
      "100%|████████████████████████████████████████████████████████████████████████████████████| 9/9 [00:04<00:00,  1.99it/s]\n"
     ]
    },
    {
     "name": "stdout",
     "output_type": "stream",
     "text": [
      "Validation 4.61s => Epoch[6/100]: Loss: 0.00357 PSNR: 24.78017\n",
      "Checkpoint saved to D:\\workspaces\\srcnn\\checkpoin_dir\\models_epoch_0006_loss_0.003572.pth\n",
      "===> Training\n"
     ]
    },
    {
     "name": "stderr",
     "output_type": "stream",
     "text": [
      "100%|██████████████████████████████████████████████████████████████████████████████████| 59/59 [00:38<00:00,  1.84it/s]\n"
     ]
    },
    {
     "name": "stdout",
     "output_type": "stream",
     "text": [
      "Training 38.19s => Epoch[7/100]: Loss: 0.00444 PSNR: 23.56471\n",
      "===> Validation\n"
     ]
    },
    {
     "name": "stderr",
     "output_type": "stream",
     "text": [
      "100%|████████████████████████████████████████████████████████████████████████████████████| 9/9 [00:04<00:00,  1.96it/s]\n"
     ]
    },
    {
     "name": "stdout",
     "output_type": "stream",
     "text": [
      "Validation 4.55s => Epoch[7/100]: Loss: 0.00327 PSNR: 25.21491\n",
      "Checkpoint saved to D:\\workspaces\\srcnn\\checkpoin_dir\\models_epoch_0007_loss_0.003270.pth\n",
      "===> Training\n"
     ]
    },
    {
     "name": "stderr",
     "output_type": "stream",
     "text": [
      "100%|██████████████████████████████████████████████████████████████████████████████████| 59/59 [00:38<00:00,  1.86it/s]\n"
     ]
    },
    {
     "name": "stdout",
     "output_type": "stream",
     "text": [
      "Training 38.13s => Epoch[8/100]: Loss: 0.00410 PSNR: 23.91508\n",
      "===> Validation\n"
     ]
    },
    {
     "name": "stderr",
     "output_type": "stream",
     "text": [
      "100%|████████████████████████████████████████████████████████████████████████████████████| 9/9 [00:04<00:00,  1.95it/s]\n"
     ]
    },
    {
     "name": "stdout",
     "output_type": "stream",
     "text": [
      "Validation 4.63s => Epoch[8/100]: Loss: 0.00307 PSNR: 25.51906\n",
      "Checkpoint saved to D:\\workspaces\\srcnn\\checkpoin_dir\\models_epoch_0008_loss_0.003071.pth\n",
      "===> Training\n"
     ]
    },
    {
     "name": "stderr",
     "output_type": "stream",
     "text": [
      "100%|██████████████████████████████████████████████████████████████████████████████████| 59/59 [00:38<00:00,  1.85it/s]\n"
     ]
    },
    {
     "name": "stdout",
     "output_type": "stream",
     "text": [
      "Training 38.16s => Epoch[9/100]: Loss: 0.00389 PSNR: 24.14763\n",
      "===> Validation\n"
     ]
    },
    {
     "name": "stderr",
     "output_type": "stream",
     "text": [
      "100%|████████████████████████████████████████████████████████████████████████████████████| 9/9 [00:04<00:00,  2.00it/s]\n"
     ]
    },
    {
     "name": "stdout",
     "output_type": "stream",
     "text": [
      "Validation 4.50s => Epoch[9/100]: Loss: 0.00295 PSNR: 25.71734\n",
      "Checkpoint saved to D:\\workspaces\\srcnn\\checkpoin_dir\\models_epoch_0009_loss_0.002952.pth\n",
      "===> Training\n"
     ]
    },
    {
     "name": "stderr",
     "output_type": "stream",
     "text": [
      "100%|██████████████████████████████████████████████████████████████████████████████████| 59/59 [00:38<00:00,  1.82it/s]\n"
     ]
    },
    {
     "name": "stdout",
     "output_type": "stream",
     "text": [
      "Training 38.35s => Epoch[10/100]: Loss: 0.00380 PSNR: 24.25066\n",
      "===> Validation\n"
     ]
    },
    {
     "name": "stderr",
     "output_type": "stream",
     "text": [
      "100%|████████████████████████████████████████████████████████████████████████████████████| 9/9 [00:04<00:00,  2.00it/s]\n"
     ]
    },
    {
     "name": "stdout",
     "output_type": "stream",
     "text": [
      "Validation 4.49s => Epoch[10/100]: Loss: 0.00288 PSNR: 25.83550\n",
      "Checkpoint saved to D:\\workspaces\\srcnn\\checkpoin_dir\\models_epoch_0010_loss_0.002883.pth\n",
      "===> Training\n"
     ]
    },
    {
     "name": "stderr",
     "output_type": "stream",
     "text": [
      "100%|██████████████████████████████████████████████████████████████████████████████████| 59/59 [00:38<00:00,  1.83it/s]\n"
     ]
    },
    {
     "name": "stdout",
     "output_type": "stream",
     "text": [
      "Training 38.26s => Epoch[11/100]: Loss: 0.00370 PSNR: 24.37871\n",
      "===> Validation\n"
     ]
    },
    {
     "name": "stderr",
     "output_type": "stream",
     "text": [
      "100%|████████████████████████████████████████████████████████████████████████████████████| 9/9 [00:04<00:00,  2.00it/s]\n"
     ]
    },
    {
     "name": "stdout",
     "output_type": "stream",
     "text": [
      "Validation 4.54s => Epoch[11/100]: Loss: 0.00283 PSNR: 25.93283\n",
      "Checkpoint saved to D:\\workspaces\\srcnn\\checkpoin_dir\\models_epoch_0011_loss_0.002826.pth\n",
      "===> Training\n"
     ]
    },
    {
     "name": "stderr",
     "output_type": "stream",
     "text": [
      "100%|██████████████████████████████████████████████████████████████████████████████████| 59/59 [00:38<00:00,  1.77it/s]\n"
     ]
    },
    {
     "name": "stdout",
     "output_type": "stream",
     "text": [
      "Training 38.16s => Epoch[12/100]: Loss: 0.00364 PSNR: 24.44742\n",
      "===> Validation\n"
     ]
    },
    {
     "name": "stderr",
     "output_type": "stream",
     "text": [
      "100%|████████████████████████████████████████████████████████████████████████████████████| 9/9 [00:04<00:00,  1.97it/s]\n"
     ]
    },
    {
     "name": "stdout",
     "output_type": "stream",
     "text": [
      "Validation 4.67s => Epoch[12/100]: Loss: 0.00278 PSNR: 26.01390\n",
      "Checkpoint saved to D:\\workspaces\\srcnn\\checkpoin_dir\\models_epoch_0012_loss_0.002782.pth\n",
      "===> Training\n"
     ]
    },
    {
     "name": "stderr",
     "output_type": "stream",
     "text": [
      "100%|██████████████████████████████████████████████████████████████████████████████████| 59/59 [00:38<00:00,  1.84it/s]\n"
     ]
    },
    {
     "name": "stdout",
     "output_type": "stream",
     "text": [
      "Training 38.03s => Epoch[13/100]: Loss: 0.00360 PSNR: 24.49024\n",
      "===> Validation\n"
     ]
    },
    {
     "name": "stderr",
     "output_type": "stream",
     "text": [
      "100%|████████████████████████████████████████████████████████████████████████████████████| 9/9 [00:04<00:00,  2.02it/s]\n"
     ]
    },
    {
     "name": "stdout",
     "output_type": "stream",
     "text": [
      "Validation 4.50s => Epoch[13/100]: Loss: 0.00274 PSNR: 26.08331\n",
      "Checkpoint saved to D:\\workspaces\\srcnn\\checkpoin_dir\\models_epoch_0013_loss_0.002743.pth\n",
      "===> Training\n"
     ]
    },
    {
     "name": "stderr",
     "output_type": "stream",
     "text": [
      "100%|██████████████████████████████████████████████████████████████████████████████████| 59/59 [00:37<00:00,  1.82it/s]\n"
     ]
    },
    {
     "name": "stdout",
     "output_type": "stream",
     "text": [
      "Training 37.76s => Epoch[14/100]: Loss: 0.00354 PSNR: 24.56284\n",
      "===> Validation\n"
     ]
    },
    {
     "name": "stderr",
     "output_type": "stream",
     "text": [
      "100%|████████████████████████████████████████████████████████████████████████████████████| 9/9 [00:04<00:00,  2.05it/s]\n"
     ]
    },
    {
     "name": "stdout",
     "output_type": "stream",
     "text": [
      "Validation 4.49s => Epoch[14/100]: Loss: 0.00270 PSNR: 26.16756\n",
      "Checkpoint saved to D:\\workspaces\\srcnn\\checkpoin_dir\\models_epoch_0014_loss_0.002699.pth\n",
      "===> Training\n"
     ]
    },
    {
     "name": "stderr",
     "output_type": "stream",
     "text": [
      "100%|██████████████████████████████████████████████████████████████████████████████████| 59/59 [00:37<00:00,  1.83it/s]\n"
     ]
    },
    {
     "name": "stdout",
     "output_type": "stream",
     "text": [
      "Training 37.83s => Epoch[15/100]: Loss: 0.00351 PSNR: 24.62588\n",
      "===> Validation\n"
     ]
    },
    {
     "name": "stderr",
     "output_type": "stream",
     "text": [
      "100%|████████████████████████████████████████████████████████████████████████████████████| 9/9 [00:04<00:00,  2.02it/s]\n"
     ]
    },
    {
     "name": "stdout",
     "output_type": "stream",
     "text": [
      "Validation 4.54s => Epoch[15/100]: Loss: 0.00266 PSNR: 26.23320\n",
      "Checkpoint saved to D:\\workspaces\\srcnn\\checkpoin_dir\\models_epoch_0015_loss_0.002663.pth\n",
      "===> Training\n"
     ]
    },
    {
     "name": "stderr",
     "output_type": "stream",
     "text": [
      "100%|██████████████████████████████████████████████████████████████████████████████████| 59/59 [00:38<00:00,  1.77it/s]\n"
     ]
    },
    {
     "name": "stdout",
     "output_type": "stream",
     "text": [
      "Training 38.10s => Epoch[16/100]: Loss: 0.00345 PSNR: 24.67116\n",
      "===> Validation\n"
     ]
    },
    {
     "name": "stderr",
     "output_type": "stream",
     "text": [
      "100%|████████████████████████████████████████████████████████████████████████████████████| 9/9 [00:04<00:00,  2.04it/s]\n"
     ]
    },
    {
     "name": "stdout",
     "output_type": "stream",
     "text": [
      "Validation 4.51s => Epoch[16/100]: Loss: 0.00263 PSNR: 26.29201\n",
      "Checkpoint saved to D:\\workspaces\\srcnn\\checkpoin_dir\\models_epoch_0016_loss_0.002632.pth\n",
      "===> Training\n"
     ]
    },
    {
     "name": "stderr",
     "output_type": "stream",
     "text": [
      "100%|██████████████████████████████████████████████████████████████████████████████████| 59/59 [00:45<00:00,  1.68it/s]\n"
     ]
    },
    {
     "name": "stdout",
     "output_type": "stream",
     "text": [
      "Training 45.42s => Epoch[17/100]: Loss: 0.00342 PSNR: 24.72555\n",
      "===> Validation\n"
     ]
    },
    {
     "name": "stderr",
     "output_type": "stream",
     "text": [
      "100%|████████████████████████████████████████████████████████████████████████████████████| 9/9 [00:04<00:00,  1.96it/s]\n"
     ]
    },
    {
     "name": "stdout",
     "output_type": "stream",
     "text": [
      "Validation 4.52s => Epoch[17/100]: Loss: 0.00260 PSNR: 26.35310\n",
      "Checkpoint saved to D:\\workspaces\\srcnn\\checkpoin_dir\\models_epoch_0017_loss_0.002601.pth\n",
      "===> Training\n"
     ]
    },
    {
     "name": "stderr",
     "output_type": "stream",
     "text": [
      "100%|██████████████████████████████████████████████████████████████████████████████████| 59/59 [00:39<00:00,  1.77it/s]\n"
     ]
    },
    {
     "name": "stdout",
     "output_type": "stream",
     "text": [
      "Training 39.01s => Epoch[18/100]: Loss: 0.00338 PSNR: 24.77906\n",
      "===> Validation\n"
     ]
    },
    {
     "name": "stderr",
     "output_type": "stream",
     "text": [
      "100%|████████████████████████████████████████████████████████████████████████████████████| 9/9 [00:04<00:00,  1.93it/s]\n"
     ]
    },
    {
     "name": "stdout",
     "output_type": "stream",
     "text": [
      "Validation 4.61s => Epoch[18/100]: Loss: 0.00257 PSNR: 26.40721\n",
      "Checkpoint saved to D:\\workspaces\\srcnn\\checkpoin_dir\\models_epoch_0018_loss_0.002573.pth\n",
      "===> Training\n"
     ]
    },
    {
     "name": "stderr",
     "output_type": "stream",
     "text": [
      "100%|██████████████████████████████████████████████████████████████████████████████████| 59/59 [00:38<00:00,  1.80it/s]\n"
     ]
    },
    {
     "name": "stdout",
     "output_type": "stream",
     "text": [
      "Training 38.47s => Epoch[19/100]: Loss: 0.00334 PSNR: 24.81888\n",
      "===> Validation\n"
     ]
    },
    {
     "name": "stderr",
     "output_type": "stream",
     "text": [
      "100%|████████████████████████████████████████████████████████████████████████████████████| 9/9 [00:04<00:00,  2.03it/s]\n"
     ]
    },
    {
     "name": "stdout",
     "output_type": "stream",
     "text": [
      "Validation 4.50s => Epoch[19/100]: Loss: 0.00255 PSNR: 26.45726\n",
      "Checkpoint saved to D:\\workspaces\\srcnn\\checkpoin_dir\\models_epoch_0019_loss_0.002548.pth\n",
      "===> Training\n"
     ]
    },
    {
     "name": "stderr",
     "output_type": "stream",
     "text": [
      "100%|██████████████████████████████████████████████████████████████████████████████████| 59/59 [00:38<00:00,  1.84it/s]\n"
     ]
    },
    {
     "name": "stdout",
     "output_type": "stream",
     "text": [
      "Training 38.07s => Epoch[20/100]: Loss: 0.00331 PSNR: 24.85729\n",
      "===> Validation\n"
     ]
    },
    {
     "name": "stderr",
     "output_type": "stream",
     "text": [
      "100%|████████████████████████████████████████████████████████████████████████████████████| 9/9 [00:04<00:00,  1.97it/s]\n"
     ]
    },
    {
     "name": "stdout",
     "output_type": "stream",
     "text": [
      "Validation 4.63s => Epoch[20/100]: Loss: 0.00252 PSNR: 26.50681\n",
      "Checkpoint saved to D:\\workspaces\\srcnn\\checkpoin_dir\\models_epoch_0020_loss_0.002524.pth\n",
      "===> Training\n"
     ]
    },
    {
     "name": "stderr",
     "output_type": "stream",
     "text": [
      "100%|██████████████████████████████████████████████████████████████████████████████████| 59/59 [00:38<00:00,  1.85it/s]\n"
     ]
    },
    {
     "name": "stdout",
     "output_type": "stream",
     "text": [
      "Training 38.47s => Epoch[21/100]: Loss: 0.00329 PSNR: 24.89294\n",
      "===> Validation\n"
     ]
    },
    {
     "name": "stderr",
     "output_type": "stream",
     "text": [
      "100%|████████████████████████████████████████████████████████████████████████████████████| 9/9 [00:04<00:00,  1.97it/s]\n"
     ]
    },
    {
     "name": "stdout",
     "output_type": "stream",
     "text": [
      "Validation 4.66s => Epoch[21/100]: Loss: 0.00250 PSNR: 26.54885\n",
      "Checkpoint saved to D:\\workspaces\\srcnn\\checkpoin_dir\\models_epoch_0021_loss_0.002503.pth\n",
      "===> Training\n"
     ]
    },
    {
     "name": "stderr",
     "output_type": "stream",
     "text": [
      "100%|██████████████████████████████████████████████████████████████████████████████████| 59/59 [00:37<00:00,  1.76it/s]\n"
     ]
    },
    {
     "name": "stdout",
     "output_type": "stream",
     "text": [
      "Training 37.95s => Epoch[22/100]: Loss: 0.00325 PSNR: 24.94521\n",
      "===> Validation\n"
     ]
    },
    {
     "name": "stderr",
     "output_type": "stream",
     "text": [
      "100%|████████████████████████████████████████████████████████████████████████████████████| 9/9 [00:04<00:00,  1.92it/s]\n"
     ]
    },
    {
     "name": "stdout",
     "output_type": "stream",
     "text": [
      "Validation 4.64s => Epoch[22/100]: Loss: 0.00248 PSNR: 26.58704\n",
      "Checkpoint saved to D:\\workspaces\\srcnn\\checkpoin_dir\\models_epoch_0022_loss_0.002485.pth\n",
      "===> Training\n"
     ]
    },
    {
     "name": "stderr",
     "output_type": "stream",
     "text": [
      "100%|██████████████████████████████████████████████████████████████████████████████████| 59/59 [00:38<00:00,  1.81it/s]\n"
     ]
    },
    {
     "name": "stdout",
     "output_type": "stream",
     "text": [
      "Training 38.63s => Epoch[23/100]: Loss: 0.00324 PSNR: 24.95958\n",
      "===> Validation\n"
     ]
    },
    {
     "name": "stderr",
     "output_type": "stream",
     "text": [
      "100%|████████████████████████████████████████████████████████████████████████████████████| 9/9 [00:04<00:00,  1.96it/s]\n"
     ]
    },
    {
     "name": "stdout",
     "output_type": "stream",
     "text": [
      "Validation 4.56s => Epoch[23/100]: Loss: 0.00247 PSNR: 26.62380\n",
      "Checkpoint saved to D:\\workspaces\\srcnn\\checkpoin_dir\\models_epoch_0023_loss_0.002468.pth\n",
      "===> Training\n"
     ]
    },
    {
     "name": "stderr",
     "output_type": "stream",
     "text": [
      "100%|██████████████████████████████████████████████████████████████████████████████████| 59/59 [00:38<00:00,  1.83it/s]\n"
     ]
    },
    {
     "name": "stdout",
     "output_type": "stream",
     "text": [
      "Training 38.15s => Epoch[24/100]: Loss: 0.00320 PSNR: 25.00427\n",
      "===> Validation\n"
     ]
    },
    {
     "name": "stderr",
     "output_type": "stream",
     "text": [
      "100%|████████████████████████████████████████████████████████████████████████████████████| 9/9 [00:04<00:00,  1.98it/s]\n"
     ]
    },
    {
     "name": "stdout",
     "output_type": "stream",
     "text": [
      "Validation 4.66s => Epoch[24/100]: Loss: 0.00245 PSNR: 26.65708\n",
      "Checkpoint saved to D:\\workspaces\\srcnn\\checkpoin_dir\\models_epoch_0024_loss_0.002452.pth\n",
      "===> Training\n"
     ]
    },
    {
     "name": "stderr",
     "output_type": "stream",
     "text": [
      "100%|██████████████████████████████████████████████████████████████████████████████████| 59/59 [00:38<00:00,  1.77it/s]\n"
     ]
    },
    {
     "name": "stdout",
     "output_type": "stream",
     "text": [
      "Training 38.71s => Epoch[25/100]: Loss: 0.00317 PSNR: 25.05280\n",
      "===> Validation\n"
     ]
    },
    {
     "name": "stderr",
     "output_type": "stream",
     "text": [
      "100%|████████████████████████████████████████████████████████████████████████████████████| 9/9 [00:04<00:00,  1.90it/s]\n"
     ]
    },
    {
     "name": "stdout",
     "output_type": "stream",
     "text": [
      "Validation 4.81s => Epoch[25/100]: Loss: 0.00244 PSNR: 26.69069\n",
      "Checkpoint saved to D:\\workspaces\\srcnn\\checkpoin_dir\\models_epoch_0025_loss_0.002436.pth\n",
      "===> Training\n"
     ]
    },
    {
     "name": "stderr",
     "output_type": "stream",
     "text": [
      "100%|██████████████████████████████████████████████████████████████████████████████████| 59/59 [00:41<00:00,  1.58it/s]\n"
     ]
    },
    {
     "name": "stdout",
     "output_type": "stream",
     "text": [
      "Training 41.03s => Epoch[26/100]: Loss: 0.00317 PSNR: 25.06395\n",
      "===> Validation\n"
     ]
    },
    {
     "name": "stderr",
     "output_type": "stream",
     "text": [
      "100%|████████████████████████████████████████████████████████████████████████████████████| 9/9 [00:05<00:00,  1.67it/s]\n"
     ]
    },
    {
     "name": "stdout",
     "output_type": "stream",
     "text": [
      "Validation 5.31s => Epoch[26/100]: Loss: 0.00243 PSNR: 26.71409\n",
      "Checkpoint saved to D:\\workspaces\\srcnn\\checkpoin_dir\\models_epoch_0026_loss_0.002426.pth\n",
      "===> Training\n"
     ]
    },
    {
     "name": "stderr",
     "output_type": "stream",
     "text": [
      "100%|██████████████████████████████████████████████████████████████████████████████████| 59/59 [00:40<00:00,  1.62it/s]\n"
     ]
    },
    {
     "name": "stdout",
     "output_type": "stream",
     "text": [
      "Training 40.77s => Epoch[27/100]: Loss: 0.00315 PSNR: 25.06648\n",
      "===> Validation\n"
     ]
    },
    {
     "name": "stderr",
     "output_type": "stream",
     "text": [
      "100%|████████████████████████████████████████████████████████████████████████████████████| 9/9 [00:04<00:00,  2.06it/s]\n"
     ]
    },
    {
     "name": "stdout",
     "output_type": "stream",
     "text": [
      "Validation 4.41s => Epoch[27/100]: Loss: 0.00241 PSNR: 26.74756\n",
      "Checkpoint saved to D:\\workspaces\\srcnn\\checkpoin_dir\\models_epoch_0027_loss_0.002412.pth\n",
      "===> Training\n"
     ]
    },
    {
     "name": "stderr",
     "output_type": "stream",
     "text": [
      "100%|██████████████████████████████████████████████████████████████████████████████████| 59/59 [00:37<00:00,  1.84it/s]\n"
     ]
    },
    {
     "name": "stdout",
     "output_type": "stream",
     "text": [
      "Training 37.08s => Epoch[28/100]: Loss: 0.00314 PSNR: 25.09270\n",
      "===> Validation\n"
     ]
    },
    {
     "name": "stderr",
     "output_type": "stream",
     "text": [
      "100%|████████████████████████████████████████████████████████████████████████████████████| 9/9 [00:04<00:00,  2.09it/s]\n"
     ]
    },
    {
     "name": "stdout",
     "output_type": "stream",
     "text": [
      "Validation 4.34s => Epoch[28/100]: Loss: 0.00240 PSNR: 26.77660\n",
      "Checkpoint saved to D:\\workspaces\\srcnn\\checkpoin_dir\\models_epoch_0028_loss_0.002399.pth\n",
      "===> Training\n"
     ]
    },
    {
     "name": "stderr",
     "output_type": "stream",
     "text": [
      "100%|██████████████████████████████████████████████████████████████████████████████████| 59/59 [00:37<00:00,  1.89it/s]\n"
     ]
    },
    {
     "name": "stdout",
     "output_type": "stream",
     "text": [
      "Training 37.04s => Epoch[29/100]: Loss: 0.00312 PSNR: 25.12019\n",
      "===> Validation\n"
     ]
    },
    {
     "name": "stderr",
     "output_type": "stream",
     "text": [
      "100%|████████████████████████████████████████████████████████████████████████████████████| 9/9 [00:04<00:00,  2.09it/s]\n"
     ]
    },
    {
     "name": "stdout",
     "output_type": "stream",
     "text": [
      "Validation 4.36s => Epoch[29/100]: Loss: 0.00239 PSNR: 26.80018\n",
      "Checkpoint saved to D:\\workspaces\\srcnn\\checkpoin_dir\\models_epoch_0029_loss_0.002388.pth\n",
      "===> Training\n"
     ]
    },
    {
     "name": "stderr",
     "output_type": "stream",
     "text": [
      "100%|██████████████████████████████████████████████████████████████████████████████████| 59/59 [00:36<00:00,  1.93it/s]\n"
     ]
    },
    {
     "name": "stdout",
     "output_type": "stream",
     "text": [
      "Training 36.44s => Epoch[30/100]: Loss: 0.00311 PSNR: 25.12570\n",
      "===> Validation\n"
     ]
    },
    {
     "name": "stderr",
     "output_type": "stream",
     "text": [
      "100%|████████████████████████████████████████████████████████████████████████████████████| 9/9 [00:04<00:00,  2.08it/s]\n"
     ]
    },
    {
     "name": "stdout",
     "output_type": "stream",
     "text": [
      "Validation 4.37s => Epoch[30/100]: Loss: 0.00238 PSNR: 26.82348\n",
      "Checkpoint saved to D:\\workspaces\\srcnn\\checkpoin_dir\\models_epoch_0030_loss_0.002378.pth\n",
      "===> Training\n"
     ]
    },
    {
     "name": "stderr",
     "output_type": "stream",
     "text": [
      "100%|██████████████████████████████████████████████████████████████████████████████████| 59/59 [00:36<00:00,  1.88it/s]\n"
     ]
    },
    {
     "name": "stdout",
     "output_type": "stream",
     "text": [
      "Training 36.76s => Epoch[31/100]: Loss: 0.00309 PSNR: 25.16178\n",
      "===> Validation\n"
     ]
    },
    {
     "name": "stderr",
     "output_type": "stream",
     "text": [
      "100%|████████████████████████████████████████████████████████████████████████████████████| 9/9 [00:04<00:00,  2.12it/s]\n"
     ]
    },
    {
     "name": "stdout",
     "output_type": "stream",
     "text": [
      "Validation 4.32s => Epoch[31/100]: Loss: 0.00237 PSNR: 26.84765\n",
      "Checkpoint saved to D:\\workspaces\\srcnn\\checkpoin_dir\\models_epoch_0031_loss_0.002367.pth\n",
      "===> Training\n"
     ]
    },
    {
     "name": "stderr",
     "output_type": "stream",
     "text": [
      "100%|██████████████████████████████████████████████████████████████████████████████████| 59/59 [00:36<00:00,  1.92it/s]\n"
     ]
    },
    {
     "name": "stdout",
     "output_type": "stream",
     "text": [
      "Training 36.70s => Epoch[32/100]: Loss: 0.00308 PSNR: 25.17638\n",
      "===> Validation\n"
     ]
    },
    {
     "name": "stderr",
     "output_type": "stream",
     "text": [
      "100%|████████████████████████████████████████████████████████████████████████████████████| 9/9 [00:04<00:00,  2.13it/s]\n"
     ]
    },
    {
     "name": "stdout",
     "output_type": "stream",
     "text": [
      "Validation 4.26s => Epoch[32/100]: Loss: 0.00236 PSNR: 26.86293\n",
      "Checkpoint saved to D:\\workspaces\\srcnn\\checkpoin_dir\\models_epoch_0032_loss_0.002360.pth\n",
      "===> Training\n"
     ]
    },
    {
     "name": "stderr",
     "output_type": "stream",
     "text": [
      "100%|██████████████████████████████████████████████████████████████████████████████████| 59/59 [00:36<00:00,  1.94it/s]\n"
     ]
    },
    {
     "name": "stdout",
     "output_type": "stream",
     "text": [
      "Training 36.96s => Epoch[33/100]: Loss: 0.00308 PSNR: 25.16786\n",
      "===> Validation\n"
     ]
    },
    {
     "name": "stderr",
     "output_type": "stream",
     "text": [
      "100%|████████████████████████████████████████████████████████████████████████████████████| 9/9 [00:04<00:00,  2.06it/s]\n"
     ]
    },
    {
     "name": "stdout",
     "output_type": "stream",
     "text": [
      "Validation 4.50s => Epoch[33/100]: Loss: 0.00235 PSNR: 26.88707\n",
      "Checkpoint saved to D:\\workspaces\\srcnn\\checkpoin_dir\\models_epoch_0033_loss_0.002349.pth\n",
      "===> Training\n"
     ]
    },
    {
     "name": "stderr",
     "output_type": "stream",
     "text": [
      "100%|██████████████████████████████████████████████████████████████████████████████████| 59/59 [00:36<00:00,  1.88it/s]\n"
     ]
    },
    {
     "name": "stdout",
     "output_type": "stream",
     "text": [
      "Training 36.33s => Epoch[34/100]: Loss: 0.00308 PSNR: 25.17837\n",
      "===> Validation\n"
     ]
    },
    {
     "name": "stderr",
     "output_type": "stream",
     "text": [
      "100%|████████████████████████████████████████████████████████████████████████████████████| 9/9 [00:04<00:00,  2.10it/s]\n"
     ]
    },
    {
     "name": "stdout",
     "output_type": "stream",
     "text": [
      "Validation 4.38s => Epoch[34/100]: Loss: 0.00234 PSNR: 26.90338\n",
      "Checkpoint saved to D:\\workspaces\\srcnn\\checkpoin_dir\\models_epoch_0034_loss_0.002341.pth\n",
      "===> Training\n"
     ]
    },
    {
     "name": "stderr",
     "output_type": "stream",
     "text": [
      "100%|██████████████████████████████████████████████████████████████████████████████████| 59/59 [00:36<00:00,  1.91it/s]\n"
     ]
    },
    {
     "name": "stdout",
     "output_type": "stream",
     "text": [
      "Training 36.80s => Epoch[35/100]: Loss: 0.00305 PSNR: 25.21868\n",
      "===> Validation\n"
     ]
    },
    {
     "name": "stderr",
     "output_type": "stream",
     "text": [
      "100%|████████████████████████████████████████████████████████████████████████████████████| 9/9 [00:04<00:00,  2.08it/s]\n"
     ]
    },
    {
     "name": "stdout",
     "output_type": "stream",
     "text": [
      "Validation 4.39s => Epoch[35/100]: Loss: 0.00233 PSNR: 26.92397\n",
      "Checkpoint saved to D:\\workspaces\\srcnn\\checkpoin_dir\\models_epoch_0035_loss_0.002333.pth\n",
      "===> Training\n"
     ]
    },
    {
     "name": "stderr",
     "output_type": "stream",
     "text": [
      "100%|██████████████████████████████████████████████████████████████████████████████████| 59/59 [00:36<00:00,  1.85it/s]\n"
     ]
    },
    {
     "name": "stdout",
     "output_type": "stream",
     "text": [
      "Training 36.71s => Epoch[36/100]: Loss: 0.00303 PSNR: 25.25411\n",
      "===> Validation\n"
     ]
    },
    {
     "name": "stderr",
     "output_type": "stream",
     "text": [
      "100%|████████████████████████████████████████████████████████████████████████████████████| 9/9 [00:04<00:00,  2.04it/s]\n"
     ]
    },
    {
     "name": "stdout",
     "output_type": "stream",
     "text": [
      "Validation 4.38s => Epoch[36/100]: Loss: 0.00233 PSNR: 26.94163\n",
      "Checkpoint saved to D:\\workspaces\\srcnn\\checkpoin_dir\\models_epoch_0036_loss_0.002325.pth\n",
      "===> Training\n"
     ]
    },
    {
     "name": "stderr",
     "output_type": "stream",
     "text": [
      "100%|██████████████████████████████████████████████████████████████████████████████████| 59/59 [00:37<00:00,  1.88it/s]\n"
     ]
    },
    {
     "name": "stdout",
     "output_type": "stream",
     "text": [
      "Training 37.27s => Epoch[37/100]: Loss: 0.00303 PSNR: 25.22521\n",
      "===> Validation\n"
     ]
    },
    {
     "name": "stderr",
     "output_type": "stream",
     "text": [
      "100%|████████████████████████████████████████████████████████████████████████████████████| 9/9 [00:04<00:00,  2.04it/s]\n"
     ]
    },
    {
     "name": "stdout",
     "output_type": "stream",
     "text": [
      "Validation 4.40s => Epoch[37/100]: Loss: 0.00232 PSNR: 26.95060\n",
      "Checkpoint saved to D:\\workspaces\\srcnn\\checkpoin_dir\\models_epoch_0037_loss_0.002322.pth\n",
      "===> Training\n"
     ]
    },
    {
     "name": "stderr",
     "output_type": "stream",
     "text": [
      "100%|██████████████████████████████████████████████████████████████████████████████████| 59/59 [00:37<00:00,  1.85it/s]\n"
     ]
    },
    {
     "name": "stdout",
     "output_type": "stream",
     "text": [
      "Training 37.19s => Epoch[38/100]: Loss: 0.00301 PSNR: 25.28496\n",
      "===> Validation\n"
     ]
    },
    {
     "name": "stderr",
     "output_type": "stream",
     "text": [
      "100%|████████████████████████████████████████████████████████████████████████████████████| 9/9 [00:04<00:00,  2.05it/s]\n"
     ]
    },
    {
     "name": "stdout",
     "output_type": "stream",
     "text": [
      "Validation 4.46s => Epoch[38/100]: Loss: 0.00231 PSNR: 26.96920\n",
      "Checkpoint saved to D:\\workspaces\\srcnn\\checkpoin_dir\\models_epoch_0038_loss_0.002312.pth\n",
      "===> Training\n"
     ]
    },
    {
     "name": "stderr",
     "output_type": "stream",
     "text": [
      "100%|██████████████████████████████████████████████████████████████████████████████████| 59/59 [00:36<00:00,  1.96it/s]\n"
     ]
    },
    {
     "name": "stdout",
     "output_type": "stream",
     "text": [
      "Training 36.60s => Epoch[39/100]: Loss: 0.00300 PSNR: 25.27315\n",
      "===> Validation\n"
     ]
    },
    {
     "name": "stderr",
     "output_type": "stream",
     "text": [
      "100%|████████████████████████████████████████████████████████████████████████████████████| 9/9 [00:04<00:00,  2.08it/s]\n"
     ]
    },
    {
     "name": "stdout",
     "output_type": "stream",
     "text": [
      "Validation 4.38s => Epoch[39/100]: Loss: 0.00231 PSNR: 26.98512\n",
      "Checkpoint saved to D:\\workspaces\\srcnn\\checkpoin_dir\\models_epoch_0039_loss_0.002306.pth\n",
      "===> Training\n"
     ]
    },
    {
     "name": "stderr",
     "output_type": "stream",
     "text": [
      "100%|██████████████████████████████████████████████████████████████████████████████████| 59/59 [00:37<00:00,  1.87it/s]\n"
     ]
    },
    {
     "name": "stdout",
     "output_type": "stream",
     "text": [
      "Training 37.48s => Epoch[40/100]: Loss: 0.00301 PSNR: 25.28039\n",
      "===> Validation\n"
     ]
    },
    {
     "name": "stderr",
     "output_type": "stream",
     "text": [
      "100%|████████████████████████████████████████████████████████████████████████████████████| 9/9 [00:04<00:00,  2.08it/s]\n"
     ]
    },
    {
     "name": "stdout",
     "output_type": "stream",
     "text": [
      "Validation 4.34s => Epoch[40/100]: Loss: 0.00230 PSNR: 26.99422\n",
      "Checkpoint saved to D:\\workspaces\\srcnn\\checkpoin_dir\\models_epoch_0040_loss_0.002301.pth\n",
      "===> Training\n"
     ]
    },
    {
     "name": "stderr",
     "output_type": "stream",
     "text": [
      "100%|██████████████████████████████████████████████████████████████████████████████████| 59/59 [00:37<00:00,  1.87it/s]\n"
     ]
    },
    {
     "name": "stdout",
     "output_type": "stream",
     "text": [
      "Training 37.14s => Epoch[41/100]: Loss: 0.00300 PSNR: 25.29288\n",
      "===> Validation\n"
     ]
    },
    {
     "name": "stderr",
     "output_type": "stream",
     "text": [
      "100%|████████████████████████████████████████████████████████████████████████████████████| 9/9 [00:04<00:00,  2.10it/s]\n"
     ]
    },
    {
     "name": "stdout",
     "output_type": "stream",
     "text": [
      "Validation 4.34s => Epoch[41/100]: Loss: 0.00230 PSNR: 27.00769\n",
      "Checkpoint saved to D:\\workspaces\\srcnn\\checkpoin_dir\\models_epoch_0041_loss_0.002295.pth\n",
      "===> Training\n"
     ]
    },
    {
     "name": "stderr",
     "output_type": "stream",
     "text": [
      "100%|██████████████████████████████████████████████████████████████████████████████████| 59/59 [00:36<00:00,  1.90it/s]\n"
     ]
    },
    {
     "name": "stdout",
     "output_type": "stream",
     "text": [
      "Training 36.88s => Epoch[42/100]: Loss: 0.00299 PSNR: 25.31266\n",
      "===> Validation\n"
     ]
    },
    {
     "name": "stderr",
     "output_type": "stream",
     "text": [
      "100%|████████████████████████████████████████████████████████████████████████████████████| 9/9 [00:04<00:00,  2.12it/s]\n"
     ]
    },
    {
     "name": "stdout",
     "output_type": "stream",
     "text": [
      "Validation 4.28s => Epoch[42/100]: Loss: 0.00229 PSNR: 27.02172\n",
      "Checkpoint saved to D:\\workspaces\\srcnn\\checkpoin_dir\\models_epoch_0042_loss_0.002290.pth\n",
      "===> Training\n"
     ]
    },
    {
     "name": "stderr",
     "output_type": "stream",
     "text": [
      "100%|██████████████████████████████████████████████████████████████████████████████████| 59/59 [00:36<00:00,  1.90it/s]\n"
     ]
    },
    {
     "name": "stdout",
     "output_type": "stream",
     "text": [
      "Training 36.66s => Epoch[43/100]: Loss: 0.00299 PSNR: 25.30639\n",
      "===> Validation\n"
     ]
    },
    {
     "name": "stderr",
     "output_type": "stream",
     "text": [
      "100%|████████████████████████████████████████████████████████████████████████████████████| 9/9 [00:04<00:00,  2.09it/s]\n"
     ]
    },
    {
     "name": "stdout",
     "output_type": "stream",
     "text": [
      "Validation 4.33s => Epoch[43/100]: Loss: 0.00229 PSNR: 27.03333\n",
      "Checkpoint saved to D:\\workspaces\\srcnn\\checkpoin_dir\\models_epoch_0043_loss_0.002285.pth\n",
      "===> Training\n"
     ]
    },
    {
     "name": "stderr",
     "output_type": "stream",
     "text": [
      "100%|██████████████████████████████████████████████████████████████████████████████████| 59/59 [00:37<00:00,  1.94it/s]\n"
     ]
    },
    {
     "name": "stdout",
     "output_type": "stream",
     "text": [
      "Training 37.07s => Epoch[44/100]: Loss: 0.00298 PSNR: 25.32755\n",
      "===> Validation\n"
     ]
    },
    {
     "name": "stderr",
     "output_type": "stream",
     "text": [
      "100%|████████████████████████████████████████████████████████████████████████████████████| 9/9 [00:04<00:00,  2.03it/s]\n"
     ]
    },
    {
     "name": "stdout",
     "output_type": "stream",
     "text": [
      "Validation 4.36s => Epoch[44/100]: Loss: 0.00228 PSNR: 27.04378\n",
      "Checkpoint saved to D:\\workspaces\\srcnn\\checkpoin_dir\\models_epoch_0044_loss_0.002280.pth\n",
      "===> Training\n"
     ]
    },
    {
     "name": "stderr",
     "output_type": "stream",
     "text": [
      "100%|██████████████████████████████████████████████████████████████████████████████████| 59/59 [00:36<00:00,  1.88it/s]\n"
     ]
    },
    {
     "name": "stdout",
     "output_type": "stream",
     "text": [
      "Training 36.97s => Epoch[45/100]: Loss: 0.00297 PSNR: 25.33139\n",
      "===> Validation\n"
     ]
    },
    {
     "name": "stderr",
     "output_type": "stream",
     "text": [
      "100%|████████████████████████████████████████████████████████████████████████████████████| 9/9 [00:04<00:00,  2.11it/s]\n"
     ]
    },
    {
     "name": "stdout",
     "output_type": "stream",
     "text": [
      "Validation 4.32s => Epoch[45/100]: Loss: 0.00228 PSNR: 27.05343\n",
      "Checkpoint saved to D:\\workspaces\\srcnn\\checkpoin_dir\\models_epoch_0045_loss_0.002276.pth\n",
      "===> Training\n"
     ]
    },
    {
     "name": "stderr",
     "output_type": "stream",
     "text": [
      "100%|██████████████████████████████████████████████████████████████████████████████████| 59/59 [00:36<00:00,  1.87it/s]\n"
     ]
    },
    {
     "name": "stdout",
     "output_type": "stream",
     "text": [
      "Training 36.94s => Epoch[46/100]: Loss: 0.00297 PSNR: 25.34618\n",
      "===> Validation\n"
     ]
    },
    {
     "name": "stderr",
     "output_type": "stream",
     "text": [
      "100%|████████████████████████████████████████████████████████████████████████████████████| 9/9 [00:04<00:00,  2.07it/s]\n"
     ]
    },
    {
     "name": "stdout",
     "output_type": "stream",
     "text": [
      "Validation 4.41s => Epoch[46/100]: Loss: 0.00227 PSNR: 27.06405\n",
      "Checkpoint saved to D:\\workspaces\\srcnn\\checkpoin_dir\\models_epoch_0046_loss_0.002272.pth\n",
      "===> Training\n"
     ]
    },
    {
     "name": "stderr",
     "output_type": "stream",
     "text": [
      "100%|██████████████████████████████████████████████████████████████████████████████████| 59/59 [00:36<00:00,  1.86it/s]\n"
     ]
    },
    {
     "name": "stdout",
     "output_type": "stream",
     "text": [
      "Training 36.89s => Epoch[47/100]: Loss: 0.00297 PSNR: 25.32518\n",
      "===> Validation\n"
     ]
    },
    {
     "name": "stderr",
     "output_type": "stream",
     "text": [
      "100%|████████████████████████████████████████████████████████████████████████████████████| 9/9 [00:04<00:00,  2.04it/s]\n"
     ]
    },
    {
     "name": "stdout",
     "output_type": "stream",
     "text": [
      "Validation 4.42s => Epoch[47/100]: Loss: 0.00227 PSNR: 27.07936\n",
      "Checkpoint saved to D:\\workspaces\\srcnn\\checkpoin_dir\\models_epoch_0047_loss_0.002265.pth\n",
      "===> Training\n"
     ]
    },
    {
     "name": "stderr",
     "output_type": "stream",
     "text": [
      "100%|██████████████████████████████████████████████████████████████████████████████████| 59/59 [00:37<00:00,  1.91it/s]\n"
     ]
    },
    {
     "name": "stdout",
     "output_type": "stream",
     "text": [
      "Training 37.43s => Epoch[48/100]: Loss: 0.00296 PSNR: 25.34025\n",
      "===> Validation\n"
     ]
    },
    {
     "name": "stderr",
     "output_type": "stream",
     "text": [
      "100%|████████████████████████████████████████████████████████████████████████████████████| 9/9 [00:04<00:00,  2.09it/s]\n"
     ]
    },
    {
     "name": "stdout",
     "output_type": "stream",
     "text": [
      "Validation 4.38s => Epoch[48/100]: Loss: 0.00226 PSNR: 27.08879\n",
      "Checkpoint saved to D:\\workspaces\\srcnn\\checkpoin_dir\\models_epoch_0048_loss_0.002261.pth\n",
      "===> Training\n"
     ]
    },
    {
     "name": "stderr",
     "output_type": "stream",
     "text": [
      "100%|██████████████████████████████████████████████████████████████████████████████████| 59/59 [00:37<00:00,  1.78it/s]\n"
     ]
    },
    {
     "name": "stdout",
     "output_type": "stream",
     "text": [
      "Training 37.28s => Epoch[49/100]: Loss: 0.00294 PSNR: 25.36034\n",
      "===> Validation\n"
     ]
    },
    {
     "name": "stderr",
     "output_type": "stream",
     "text": [
      "100%|████████████████████████████████████████████████████████████████████████████████████| 9/9 [00:04<00:00,  2.05it/s]\n"
     ]
    },
    {
     "name": "stdout",
     "output_type": "stream",
     "text": [
      "Validation 4.41s => Epoch[49/100]: Loss: 0.00226 PSNR: 27.09235\n",
      "Checkpoint saved to D:\\workspaces\\srcnn\\checkpoin_dir\\models_epoch_0049_loss_0.002259.pth\n",
      "===> Training\n"
     ]
    },
    {
     "name": "stderr",
     "output_type": "stream",
     "text": [
      "100%|██████████████████████████████████████████████████████████████████████████████████| 59/59 [00:37<00:00,  1.81it/s]\n"
     ]
    },
    {
     "name": "stdout",
     "output_type": "stream",
     "text": [
      "Training 37.48s => Epoch[50/100]: Loss: 0.00295 PSNR: 25.35929\n",
      "===> Validation\n"
     ]
    },
    {
     "name": "stderr",
     "output_type": "stream",
     "text": [
      "100%|████████████████████████████████████████████████████████████████████████████████████| 9/9 [00:04<00:00,  2.07it/s]\n"
     ]
    },
    {
     "name": "stdout",
     "output_type": "stream",
     "text": [
      "Validation 4.42s => Epoch[50/100]: Loss: 0.00226 PSNR: 27.10446\n",
      "Checkpoint saved to D:\\workspaces\\srcnn\\checkpoin_dir\\models_epoch_0050_loss_0.002255.pth\n",
      "===> Training\n"
     ]
    },
    {
     "name": "stderr",
     "output_type": "stream",
     "text": [
      "100%|██████████████████████████████████████████████████████████████████████████████████| 59/59 [00:37<00:00,  1.88it/s]\n"
     ]
    },
    {
     "name": "stdout",
     "output_type": "stream",
     "text": [
      "Training 37.10s => Epoch[51/100]: Loss: 0.00293 PSNR: 25.38947\n",
      "===> Validation\n"
     ]
    },
    {
     "name": "stderr",
     "output_type": "stream",
     "text": [
      "100%|████████████████████████████████████████████████████████████████████████████████████| 9/9 [00:04<00:00,  2.09it/s]\n"
     ]
    },
    {
     "name": "stdout",
     "output_type": "stream",
     "text": [
      "Validation 4.34s => Epoch[51/100]: Loss: 0.00225 PSNR: 27.11861\n",
      "Checkpoint saved to D:\\workspaces\\srcnn\\checkpoin_dir\\models_epoch_0051_loss_0.002249.pth\n",
      "===> Training\n"
     ]
    },
    {
     "name": "stderr",
     "output_type": "stream",
     "text": [
      "100%|██████████████████████████████████████████████████████████████████████████████████| 59/59 [00:37<00:00,  1.86it/s]\n"
     ]
    },
    {
     "name": "stdout",
     "output_type": "stream",
     "text": [
      "Training 37.28s => Epoch[52/100]: Loss: 0.00293 PSNR: 25.39340\n",
      "===> Validation\n"
     ]
    },
    {
     "name": "stderr",
     "output_type": "stream",
     "text": [
      "100%|████████████████████████████████████████████████████████████████████████████████████| 9/9 [00:04<00:00,  1.98it/s]\n"
     ]
    },
    {
     "name": "stdout",
     "output_type": "stream",
     "text": [
      "Validation 4.62s => Epoch[52/100]: Loss: 0.00225 PSNR: 27.12823\n",
      "Checkpoint saved to D:\\workspaces\\srcnn\\checkpoin_dir\\models_epoch_0052_loss_0.002245.pth\n",
      "===> Training\n"
     ]
    },
    {
     "name": "stderr",
     "output_type": "stream",
     "text": [
      "100%|██████████████████████████████████████████████████████████████████████████████████| 59/59 [00:37<00:00,  1.83it/s]\n"
     ]
    },
    {
     "name": "stdout",
     "output_type": "stream",
     "text": [
      "Training 37.74s => Epoch[53/100]: Loss: 0.00293 PSNR: 25.39174\n",
      "===> Validation\n"
     ]
    },
    {
     "name": "stderr",
     "output_type": "stream",
     "text": [
      "100%|████████████████████████████████████████████████████████████████████████████████████| 9/9 [00:04<00:00,  2.06it/s]\n"
     ]
    },
    {
     "name": "stdout",
     "output_type": "stream",
     "text": [
      "Validation 4.44s => Epoch[53/100]: Loss: 0.00224 PSNR: 27.13586\n",
      "Checkpoint saved to D:\\workspaces\\srcnn\\checkpoin_dir\\models_epoch_0053_loss_0.002242.pth\n",
      "===> Training\n"
     ]
    },
    {
     "name": "stderr",
     "output_type": "stream",
     "text": [
      "100%|██████████████████████████████████████████████████████████████████████████████████| 59/59 [00:37<00:00,  1.82it/s]\n"
     ]
    },
    {
     "name": "stdout",
     "output_type": "stream",
     "text": [
      "Training 37.45s => Epoch[54/100]: Loss: 0.00294 PSNR: 25.38108\n",
      "===> Validation\n"
     ]
    },
    {
     "name": "stderr",
     "output_type": "stream",
     "text": [
      "100%|████████████████████████████████████████████████████████████████████████████████████| 9/9 [00:04<00:00,  1.98it/s]\n"
     ]
    },
    {
     "name": "stdout",
     "output_type": "stream",
     "text": [
      "Validation 4.51s => Epoch[54/100]: Loss: 0.00224 PSNR: 27.14433\n",
      "Checkpoint saved to D:\\workspaces\\srcnn\\checkpoin_dir\\models_epoch_0054_loss_0.002239.pth\n",
      "===> Training\n"
     ]
    },
    {
     "name": "stderr",
     "output_type": "stream",
     "text": [
      "100%|██████████████████████████████████████████████████████████████████████████████████| 59/59 [00:37<00:00,  1.81it/s]\n"
     ]
    },
    {
     "name": "stdout",
     "output_type": "stream",
     "text": [
      "Training 37.60s => Epoch[55/100]: Loss: 0.00293 PSNR: 25.37687\n",
      "===> Validation\n"
     ]
    },
    {
     "name": "stderr",
     "output_type": "stream",
     "text": [
      "100%|████████████████████████████████████████████████████████████████████████████████████| 9/9 [00:04<00:00,  1.93it/s]\n"
     ]
    },
    {
     "name": "stdout",
     "output_type": "stream",
     "text": [
      "Validation 4.67s => Epoch[55/100]: Loss: 0.00223 PSNR: 27.15352\n",
      "Checkpoint saved to D:\\workspaces\\srcnn\\checkpoin_dir\\models_epoch_0055_loss_0.002235.pth\n",
      "===> Training\n"
     ]
    },
    {
     "name": "stderr",
     "output_type": "stream",
     "text": [
      "100%|██████████████████████████████████████████████████████████████████████████████████| 59/59 [00:37<00:00,  1.89it/s]\n"
     ]
    },
    {
     "name": "stdout",
     "output_type": "stream",
     "text": [
      "Training 37.36s => Epoch[56/100]: Loss: 0.00291 PSNR: 25.43759\n",
      "===> Validation\n"
     ]
    },
    {
     "name": "stderr",
     "output_type": "stream",
     "text": [
      "100%|████████████████████████████████████████████████████████████████████████████████████| 9/9 [00:04<00:00,  1.99it/s]\n"
     ]
    },
    {
     "name": "stdout",
     "output_type": "stream",
     "text": [
      "Validation 4.48s => Epoch[56/100]: Loss: 0.00223 PSNR: 27.16484\n",
      "Checkpoint saved to D:\\workspaces\\srcnn\\checkpoin_dir\\models_epoch_0056_loss_0.002231.pth\n",
      "===> Training\n"
     ]
    },
    {
     "name": "stderr",
     "output_type": "stream",
     "text": [
      "100%|██████████████████████████████████████████████████████████████████████████████████| 59/59 [00:37<00:00,  1.80it/s]\n"
     ]
    },
    {
     "name": "stdout",
     "output_type": "stream",
     "text": [
      "Training 37.93s => Epoch[57/100]: Loss: 0.00291 PSNR: 25.41939\n",
      "===> Validation\n"
     ]
    },
    {
     "name": "stderr",
     "output_type": "stream",
     "text": [
      "100%|████████████████████████████████████████████████████████████████████████████████████| 9/9 [00:04<00:00,  2.07it/s]\n"
     ]
    },
    {
     "name": "stdout",
     "output_type": "stream",
     "text": [
      "Validation 4.41s => Epoch[57/100]: Loss: 0.00223 PSNR: 27.17004\n",
      "Checkpoint saved to D:\\workspaces\\srcnn\\checkpoin_dir\\models_epoch_0057_loss_0.002228.pth\n",
      "===> Training\n"
     ]
    },
    {
     "name": "stderr",
     "output_type": "stream",
     "text": [
      "100%|██████████████████████████████████████████████████████████████████████████████████| 59/59 [00:37<00:00,  1.82it/s]\n"
     ]
    },
    {
     "name": "stdout",
     "output_type": "stream",
     "text": [
      "Training 37.53s => Epoch[58/100]: Loss: 0.00291 PSNR: 25.41029\n",
      "===> Validation\n"
     ]
    },
    {
     "name": "stderr",
     "output_type": "stream",
     "text": [
      "100%|████████████████████████████████████████████████████████████████████████████████████| 9/9 [00:04<00:00,  2.00it/s]\n"
     ]
    },
    {
     "name": "stdout",
     "output_type": "stream",
     "text": [
      "Validation 4.46s => Epoch[58/100]: Loss: 0.00222 PSNR: 27.18071\n",
      "Checkpoint saved to D:\\workspaces\\srcnn\\checkpoin_dir\\models_epoch_0058_loss_0.002224.pth\n",
      "===> Training\n"
     ]
    },
    {
     "name": "stderr",
     "output_type": "stream",
     "text": [
      "100%|██████████████████████████████████████████████████████████████████████████████████| 59/59 [00:37<00:00,  1.91it/s]\n"
     ]
    },
    {
     "name": "stdout",
     "output_type": "stream",
     "text": [
      "Training 37.28s => Epoch[59/100]: Loss: 0.00291 PSNR: 25.43301\n",
      "===> Validation\n"
     ]
    },
    {
     "name": "stderr",
     "output_type": "stream",
     "text": [
      "100%|████████████████████████████████████████████████████████████████████████████████████| 9/9 [00:04<00:00,  2.08it/s]\n"
     ]
    },
    {
     "name": "stdout",
     "output_type": "stream",
     "text": [
      "Validation 4.43s => Epoch[59/100]: Loss: 0.00222 PSNR: 27.18925\n",
      "Checkpoint saved to D:\\workspaces\\srcnn\\checkpoin_dir\\models_epoch_0059_loss_0.002221.pth\n",
      "===> Training\n"
     ]
    },
    {
     "name": "stderr",
     "output_type": "stream",
     "text": [
      "100%|██████████████████████████████████████████████████████████████████████████████████| 59/59 [00:37<00:00,  1.79it/s]\n"
     ]
    },
    {
     "name": "stdout",
     "output_type": "stream",
     "text": [
      "Training 37.25s => Epoch[60/100]: Loss: 0.00289 PSNR: 25.45394\n",
      "===> Validation\n"
     ]
    },
    {
     "name": "stderr",
     "output_type": "stream",
     "text": [
      "100%|████████████████████████████████████████████████████████████████████████████████████| 9/9 [00:04<00:00,  2.04it/s]\n"
     ]
    },
    {
     "name": "stdout",
     "output_type": "stream",
     "text": [
      "Validation 4.41s => Epoch[60/100]: Loss: 0.00222 PSNR: 27.19586\n",
      "Checkpoint saved to D:\\workspaces\\srcnn\\checkpoin_dir\\models_epoch_0060_loss_0.002218.pth\n",
      "===> Training\n"
     ]
    },
    {
     "name": "stderr",
     "output_type": "stream",
     "text": [
      "100%|██████████████████████████████████████████████████████████████████████████████████| 59/59 [00:37<00:00,  1.88it/s]\n"
     ]
    },
    {
     "name": "stdout",
     "output_type": "stream",
     "text": [
      "Training 37.01s => Epoch[61/100]: Loss: 0.00290 PSNR: 25.43816\n",
      "===> Validation\n"
     ]
    },
    {
     "name": "stderr",
     "output_type": "stream",
     "text": [
      "100%|████████████████████████████████████████████████████████████████████████████████████| 9/9 [00:04<00:00,  2.05it/s]\n"
     ]
    },
    {
     "name": "stdout",
     "output_type": "stream",
     "text": [
      "Validation 4.45s => Epoch[61/100]: Loss: 0.00222 PSNR: 27.20360\n",
      "Checkpoint saved to D:\\workspaces\\srcnn\\checkpoin_dir\\models_epoch_0061_loss_0.002215.pth\n",
      "===> Training\n"
     ]
    },
    {
     "name": "stderr",
     "output_type": "stream",
     "text": [
      "100%|██████████████████████████████████████████████████████████████████████████████████| 59/59 [00:37<00:00,  1.87it/s]\n"
     ]
    },
    {
     "name": "stdout",
     "output_type": "stream",
     "text": [
      "Training 37.37s => Epoch[62/100]: Loss: 0.00289 PSNR: 25.48093\n",
      "===> Validation\n"
     ]
    },
    {
     "name": "stderr",
     "output_type": "stream",
     "text": [
      "100%|████████████████████████████████████████████████████████████████████████████████████| 9/9 [00:04<00:00,  2.03it/s]\n"
     ]
    },
    {
     "name": "stdout",
     "output_type": "stream",
     "text": [
      "Validation 4.46s => Epoch[62/100]: Loss: 0.00221 PSNR: 27.20938\n",
      "Checkpoint saved to D:\\workspaces\\srcnn\\checkpoin_dir\\models_epoch_0062_loss_0.002213.pth\n",
      "===> Training\n"
     ]
    },
    {
     "name": "stderr",
     "output_type": "stream",
     "text": [
      "100%|██████████████████████████████████████████████████████████████████████████████████| 59/59 [00:37<00:00,  1.88it/s]\n"
     ]
    },
    {
     "name": "stdout",
     "output_type": "stream",
     "text": [
      "Training 37.36s => Epoch[63/100]: Loss: 0.00290 PSNR: 25.45076\n",
      "===> Validation\n"
     ]
    },
    {
     "name": "stderr",
     "output_type": "stream",
     "text": [
      "100%|████████████████████████████████████████████████████████████████████████████████████| 9/9 [00:04<00:00,  2.07it/s]\n"
     ]
    },
    {
     "name": "stdout",
     "output_type": "stream",
     "text": [
      "Validation 4.38s => Epoch[63/100]: Loss: 0.00221 PSNR: 27.21660\n",
      "Checkpoint saved to D:\\workspaces\\srcnn\\checkpoin_dir\\models_epoch_0063_loss_0.002210.pth\n",
      "===> Training\n"
     ]
    },
    {
     "name": "stderr",
     "output_type": "stream",
     "text": [
      "100%|██████████████████████████████████████████████████████████████████████████████████| 59/59 [00:37<00:00,  1.82it/s]\n"
     ]
    },
    {
     "name": "stdout",
     "output_type": "stream",
     "text": [
      "Training 37.82s => Epoch[64/100]: Loss: 0.00289 PSNR: 25.44002\n",
      "===> Validation\n"
     ]
    },
    {
     "name": "stderr",
     "output_type": "stream",
     "text": [
      "100%|████████████████████████████████████████████████████████████████████████████████████| 9/9 [00:04<00:00,  2.06it/s]\n"
     ]
    },
    {
     "name": "stdout",
     "output_type": "stream",
     "text": [
      "Validation 4.40s => Epoch[64/100]: Loss: 0.00221 PSNR: 27.22736\n",
      "Checkpoint saved to D:\\workspaces\\srcnn\\checkpoin_dir\\models_epoch_0064_loss_0.002206.pth\n",
      "===> Training\n"
     ]
    },
    {
     "name": "stderr",
     "output_type": "stream",
     "text": [
      "100%|██████████████████████████████████████████████████████████████████████████████████| 59/59 [00:37<00:00,  1.84it/s]\n"
     ]
    },
    {
     "name": "stdout",
     "output_type": "stream",
     "text": [
      "Training 37.73s => Epoch[65/100]: Loss: 0.00288 PSNR: 25.47494\n",
      "===> Validation\n"
     ]
    },
    {
     "name": "stderr",
     "output_type": "stream",
     "text": [
      "100%|████████████████████████████████████████████████████████████████████████████████████| 9/9 [00:04<00:00,  2.00it/s]\n"
     ]
    },
    {
     "name": "stdout",
     "output_type": "stream",
     "text": [
      "Validation 4.46s => Epoch[65/100]: Loss: 0.00220 PSNR: 27.23378\n",
      "Checkpoint saved to D:\\workspaces\\srcnn\\checkpoin_dir\\models_epoch_0065_loss_0.002203.pth\n",
      "===> Training\n"
     ]
    },
    {
     "name": "stderr",
     "output_type": "stream",
     "text": [
      "100%|██████████████████████████████████████████████████████████████████████████████████| 59/59 [00:37<00:00,  1.81it/s]\n"
     ]
    },
    {
     "name": "stdout",
     "output_type": "stream",
     "text": [
      "Training 37.88s => Epoch[66/100]: Loss: 0.00288 PSNR: 25.46841\n",
      "===> Validation\n"
     ]
    },
    {
     "name": "stderr",
     "output_type": "stream",
     "text": [
      "100%|████████████████████████████████████████████████████████████████████████████████████| 9/9 [00:04<00:00,  2.06it/s]\n"
     ]
    },
    {
     "name": "stdout",
     "output_type": "stream",
     "text": [
      "Validation 4.41s => Epoch[66/100]: Loss: 0.00220 PSNR: 27.23768\n",
      "Checkpoint saved to D:\\workspaces\\srcnn\\checkpoin_dir\\models_epoch_0066_loss_0.002203.pth\n",
      "===> Training\n"
     ]
    },
    {
     "name": "stderr",
     "output_type": "stream",
     "text": [
      "100%|██████████████████████████████████████████████████████████████████████████████████| 59/59 [00:38<00:00,  1.85it/s]\n"
     ]
    },
    {
     "name": "stdout",
     "output_type": "stream",
     "text": [
      "Training 38.14s => Epoch[67/100]: Loss: 0.00287 PSNR: 25.49472\n",
      "===> Validation\n"
     ]
    },
    {
     "name": "stderr",
     "output_type": "stream",
     "text": [
      "100%|████████████████████████████████████████████████████████████████████████████████████| 9/9 [00:04<00:00,  2.05it/s]\n"
     ]
    },
    {
     "name": "stdout",
     "output_type": "stream",
     "text": [
      "Validation 4.53s => Epoch[67/100]: Loss: 0.00220 PSNR: 27.24673\n",
      "Checkpoint saved to D:\\workspaces\\srcnn\\checkpoin_dir\\models_epoch_0067_loss_0.002199.pth\n",
      "===> Training\n"
     ]
    },
    {
     "name": "stderr",
     "output_type": "stream",
     "text": [
      "100%|██████████████████████████████████████████████████████████████████████████████████| 59/59 [00:38<00:00,  1.82it/s]\n"
     ]
    },
    {
     "name": "stdout",
     "output_type": "stream",
     "text": [
      "Training 38.02s => Epoch[68/100]: Loss: 0.00288 PSNR: 25.47520\n",
      "===> Validation\n"
     ]
    },
    {
     "name": "stderr",
     "output_type": "stream",
     "text": [
      "100%|████████████████████████████████████████████████████████████████████████████████████| 9/9 [00:04<00:00,  2.04it/s]\n"
     ]
    },
    {
     "name": "stdout",
     "output_type": "stream",
     "text": [
      "Validation 4.43s => Epoch[68/100]: Loss: 0.00220 PSNR: 27.25476\n",
      "Checkpoint saved to D:\\workspaces\\srcnn\\checkpoin_dir\\models_epoch_0068_loss_0.002196.pth\n",
      "===> Training\n"
     ]
    },
    {
     "name": "stderr",
     "output_type": "stream",
     "text": [
      "100%|██████████████████████████████████████████████████████████████████████████████████| 59/59 [00:37<00:00,  1.88it/s]\n"
     ]
    },
    {
     "name": "stdout",
     "output_type": "stream",
     "text": [
      "Training 37.73s => Epoch[69/100]: Loss: 0.00286 PSNR: 25.50842\n",
      "===> Validation\n"
     ]
    },
    {
     "name": "stderr",
     "output_type": "stream",
     "text": [
      "100%|████████████████████████████████████████████████████████████████████████████████████| 9/9 [00:04<00:00,  2.06it/s]\n"
     ]
    },
    {
     "name": "stdout",
     "output_type": "stream",
     "text": [
      "Validation 4.42s => Epoch[69/100]: Loss: 0.00219 PSNR: 27.25941\n",
      "Checkpoint saved to D:\\workspaces\\srcnn\\checkpoin_dir\\models_epoch_0069_loss_0.002194.pth\n",
      "===> Training\n"
     ]
    },
    {
     "name": "stderr",
     "output_type": "stream",
     "text": [
      "100%|██████████████████████████████████████████████████████████████████████████████████| 59/59 [00:37<00:00,  1.89it/s]\n"
     ]
    },
    {
     "name": "stdout",
     "output_type": "stream",
     "text": [
      "Training 37.63s => Epoch[70/100]: Loss: 0.00287 PSNR: 25.47889\n",
      "===> Validation\n"
     ]
    },
    {
     "name": "stderr",
     "output_type": "stream",
     "text": [
      "100%|████████████████████████████████████████████████████████████████████████████████████| 9/9 [00:04<00:00,  2.00it/s]\n"
     ]
    },
    {
     "name": "stdout",
     "output_type": "stream",
     "text": [
      "Validation 4.55s => Epoch[70/100]: Loss: 0.00219 PSNR: 27.26594\n",
      "Checkpoint saved to D:\\workspaces\\srcnn\\checkpoin_dir\\models_epoch_0070_loss_0.002191.pth\n",
      "===> Training\n"
     ]
    },
    {
     "name": "stderr",
     "output_type": "stream",
     "text": [
      "100%|██████████████████████████████████████████████████████████████████████████████████| 59/59 [00:37<00:00,  1.81it/s]\n"
     ]
    },
    {
     "name": "stdout",
     "output_type": "stream",
     "text": [
      "Training 37.67s => Epoch[71/100]: Loss: 0.00287 PSNR: 25.47885\n",
      "===> Validation\n"
     ]
    },
    {
     "name": "stderr",
     "output_type": "stream",
     "text": [
      "100%|████████████████████████████████████████████████████████████████████████████████████| 9/9 [00:04<00:00,  2.04it/s]\n"
     ]
    },
    {
     "name": "stdout",
     "output_type": "stream",
     "text": [
      "Validation 4.47s => Epoch[71/100]: Loss: 0.00219 PSNR: 27.27134\n",
      "Checkpoint saved to D:\\workspaces\\srcnn\\checkpoin_dir\\models_epoch_0071_loss_0.002189.pth\n",
      "===> Training\n"
     ]
    },
    {
     "name": "stderr",
     "output_type": "stream",
     "text": [
      "100%|██████████████████████████████████████████████████████████████████████████████████| 59/59 [00:37<00:00,  1.91it/s]\n"
     ]
    },
    {
     "name": "stdout",
     "output_type": "stream",
     "text": [
      "Training 37.35s => Epoch[72/100]: Loss: 0.00288 PSNR: 25.48721\n",
      "===> Validation\n"
     ]
    },
    {
     "name": "stderr",
     "output_type": "stream",
     "text": [
      "100%|████████████████████████████████████████████████████████████████████████████████████| 9/9 [00:04<00:00,  2.04it/s]\n"
     ]
    },
    {
     "name": "stdout",
     "output_type": "stream",
     "text": [
      "Validation 4.44s => Epoch[72/100]: Loss: 0.00219 PSNR: 27.27758\n",
      "Checkpoint saved to D:\\workspaces\\srcnn\\checkpoin_dir\\models_epoch_0072_loss_0.002187.pth\n",
      "===> Training\n"
     ]
    },
    {
     "name": "stderr",
     "output_type": "stream",
     "text": [
      "100%|██████████████████████████████████████████████████████████████████████████████████| 59/59 [00:37<00:00,  1.81it/s]\n"
     ]
    },
    {
     "name": "stdout",
     "output_type": "stream",
     "text": [
      "Training 37.73s => Epoch[73/100]: Loss: 0.00286 PSNR: 25.49848\n",
      "===> Validation\n"
     ]
    },
    {
     "name": "stderr",
     "output_type": "stream",
     "text": [
      "100%|████████████████████████████████████████████████████████████████████████████████████| 9/9 [00:04<00:00,  2.06it/s]\n"
     ]
    },
    {
     "name": "stdout",
     "output_type": "stream",
     "text": [
      "Validation 4.40s => Epoch[73/100]: Loss: 0.00219 PSNR: 27.27914\n",
      "Checkpoint saved to D:\\workspaces\\srcnn\\checkpoin_dir\\models_epoch_0073_loss_0.002186.pth\n",
      "===> Training\n"
     ]
    },
    {
     "name": "stderr",
     "output_type": "stream",
     "text": [
      "100%|██████████████████████████████████████████████████████████████████████████████████| 59/59 [00:37<00:00,  1.84it/s]\n"
     ]
    },
    {
     "name": "stdout",
     "output_type": "stream",
     "text": [
      "Training 37.68s => Epoch[74/100]: Loss: 0.00285 PSNR: 25.51809\n",
      "===> Validation\n"
     ]
    },
    {
     "name": "stderr",
     "output_type": "stream",
     "text": [
      "100%|████████████████████████████████████████████████████████████████████████████████████| 9/9 [00:04<00:00,  2.02it/s]\n"
     ]
    },
    {
     "name": "stdout",
     "output_type": "stream",
     "text": [
      "Validation 4.55s => Epoch[74/100]: Loss: 0.00218 PSNR: 27.28804\n",
      "Checkpoint saved to D:\\workspaces\\srcnn\\checkpoin_dir\\models_epoch_0074_loss_0.002183.pth\n",
      "===> Training\n"
     ]
    },
    {
     "name": "stderr",
     "output_type": "stream",
     "text": [
      "100%|██████████████████████████████████████████████████████████████████████████████████| 59/59 [00:37<00:00,  1.87it/s]\n"
     ]
    },
    {
     "name": "stdout",
     "output_type": "stream",
     "text": [
      "Training 37.45s => Epoch[75/100]: Loss: 0.00286 PSNR: 25.50000\n",
      "===> Validation\n"
     ]
    },
    {
     "name": "stderr",
     "output_type": "stream",
     "text": [
      "100%|████████████████████████████████████████████████████████████████████████████████████| 9/9 [00:04<00:00,  1.95it/s]\n"
     ]
    },
    {
     "name": "stdout",
     "output_type": "stream",
     "text": [
      "Validation 4.60s => Epoch[75/100]: Loss: 0.00218 PSNR: 27.29321\n",
      "Checkpoint saved to D:\\workspaces\\srcnn\\checkpoin_dir\\models_epoch_0075_loss_0.002181.pth\n",
      "===> Training\n"
     ]
    },
    {
     "name": "stderr",
     "output_type": "stream",
     "text": [
      "100%|██████████████████████████████████████████████████████████████████████████████████| 59/59 [00:38<00:00,  1.81it/s]\n"
     ]
    },
    {
     "name": "stdout",
     "output_type": "stream",
     "text": [
      "Training 38.04s => Epoch[76/100]: Loss: 0.00285 PSNR: 25.50678\n",
      "===> Validation\n"
     ]
    },
    {
     "name": "stderr",
     "output_type": "stream",
     "text": [
      "100%|████████████████████████████████████████████████████████████████████████████████████| 9/9 [00:04<00:00,  2.03it/s]\n"
     ]
    },
    {
     "name": "stdout",
     "output_type": "stream",
     "text": [
      "Validation 4.45s => Epoch[76/100]: Loss: 0.00218 PSNR: 27.29526\n",
      "Checkpoint saved to D:\\workspaces\\srcnn\\checkpoin_dir\\models_epoch_0076_loss_0.002180.pth\n",
      "===> Training\n"
     ]
    },
    {
     "name": "stderr",
     "output_type": "stream",
     "text": [
      "100%|██████████████████████████████████████████████████████████████████████████████████| 59/59 [00:37<00:00,  1.88it/s]\n"
     ]
    },
    {
     "name": "stdout",
     "output_type": "stream",
     "text": [
      "Training 37.42s => Epoch[77/100]: Loss: 0.00286 PSNR: 25.51014\n",
      "===> Validation\n"
     ]
    },
    {
     "name": "stderr",
     "output_type": "stream",
     "text": [
      "100%|████████████████████████████████████████████████████████████████████████████████████| 9/9 [00:04<00:00,  2.03it/s]\n"
     ]
    },
    {
     "name": "stdout",
     "output_type": "stream",
     "text": [
      "Validation 4.49s => Epoch[77/100]: Loss: 0.00218 PSNR: 27.30063\n",
      "Checkpoint saved to D:\\workspaces\\srcnn\\checkpoin_dir\\models_epoch_0077_loss_0.002178.pth\n",
      "===> Training\n"
     ]
    },
    {
     "name": "stderr",
     "output_type": "stream",
     "text": [
      "100%|██████████████████████████████████████████████████████████████████████████████████| 59/59 [00:37<00:00,  1.86it/s]\n"
     ]
    },
    {
     "name": "stdout",
     "output_type": "stream",
     "text": [
      "Training 37.41s => Epoch[78/100]: Loss: 0.00285 PSNR: 25.49787\n",
      "===> Validation\n"
     ]
    },
    {
     "name": "stderr",
     "output_type": "stream",
     "text": [
      "100%|████████████████████████████████████████████████████████████████████████████████████| 9/9 [00:04<00:00,  2.03it/s]\n"
     ]
    },
    {
     "name": "stdout",
     "output_type": "stream",
     "text": [
      "Validation 4.49s => Epoch[78/100]: Loss: 0.00218 PSNR: 27.30722\n",
      "Checkpoint saved to D:\\workspaces\\srcnn\\checkpoin_dir\\models_epoch_0078_loss_0.002175.pth\n",
      "===> Training\n"
     ]
    },
    {
     "name": "stderr",
     "output_type": "stream",
     "text": [
      "100%|██████████████████████████████████████████████████████████████████████████████████| 59/59 [00:37<00:00,  1.85it/s]\n"
     ]
    },
    {
     "name": "stdout",
     "output_type": "stream",
     "text": [
      "Training 37.73s => Epoch[79/100]: Loss: 0.00284 PSNR: 25.53442\n",
      "===> Validation\n"
     ]
    },
    {
     "name": "stderr",
     "output_type": "stream",
     "text": [
      "100%|████████████████████████████████████████████████████████████████████████████████████| 9/9 [00:04<00:00,  2.03it/s]\n"
     ]
    },
    {
     "name": "stdout",
     "output_type": "stream",
     "text": [
      "Validation 4.51s => Epoch[79/100]: Loss: 0.00217 PSNR: 27.31157\n",
      "Checkpoint saved to D:\\workspaces\\srcnn\\checkpoin_dir\\models_epoch_0079_loss_0.002174.pth\n",
      "===> Training\n"
     ]
    },
    {
     "name": "stderr",
     "output_type": "stream",
     "text": [
      "100%|██████████████████████████████████████████████████████████████████████████████████| 59/59 [00:37<00:00,  1.83it/s]\n"
     ]
    },
    {
     "name": "stdout",
     "output_type": "stream",
     "text": [
      "Training 37.47s => Epoch[80/100]: Loss: 0.00284 PSNR: 25.52825\n",
      "===> Validation\n"
     ]
    },
    {
     "name": "stderr",
     "output_type": "stream",
     "text": [
      "100%|████████████████████████████████████████████████████████████████████████████████████| 9/9 [00:04<00:00,  2.08it/s]\n"
     ]
    },
    {
     "name": "stdout",
     "output_type": "stream",
     "text": [
      "Validation 4.38s => Epoch[80/100]: Loss: 0.00217 PSNR: 27.31056\n",
      "Checkpoint saved to D:\\workspaces\\srcnn\\checkpoin_dir\\models_epoch_0080_loss_0.002175.pth\n",
      "===> Training\n"
     ]
    },
    {
     "name": "stderr",
     "output_type": "stream",
     "text": [
      "100%|██████████████████████████████████████████████████████████████████████████████████| 59/59 [00:37<00:00,  1.75it/s]\n"
     ]
    },
    {
     "name": "stdout",
     "output_type": "stream",
     "text": [
      "Training 37.66s => Epoch[81/100]: Loss: 0.00283 PSNR: 25.55137\n",
      "===> Validation\n"
     ]
    },
    {
     "name": "stderr",
     "output_type": "stream",
     "text": [
      "100%|████████████████████████████████████████████████████████████████████████████████████| 9/9 [00:04<00:00,  1.99it/s]\n"
     ]
    },
    {
     "name": "stdout",
     "output_type": "stream",
     "text": [
      "Validation 4.54s => Epoch[81/100]: Loss: 0.00217 PSNR: 27.32094\n",
      "Checkpoint saved to D:\\workspaces\\srcnn\\checkpoin_dir\\models_epoch_0081_loss_0.002170.pth\n",
      "===> Training\n"
     ]
    },
    {
     "name": "stderr",
     "output_type": "stream",
     "text": [
      "100%|██████████████████████████████████████████████████████████████████████████████████| 59/59 [00:37<00:00,  1.89it/s]\n"
     ]
    },
    {
     "name": "stdout",
     "output_type": "stream",
     "text": [
      "Training 37.61s => Epoch[82/100]: Loss: 0.00285 PSNR: 25.49653\n",
      "===> Validation\n"
     ]
    },
    {
     "name": "stderr",
     "output_type": "stream",
     "text": [
      "100%|████████████████████████████████████████████████████████████████████████████████████| 9/9 [00:04<00:00,  2.05it/s]\n"
     ]
    },
    {
     "name": "stdout",
     "output_type": "stream",
     "text": [
      "Validation 4.44s => Epoch[82/100]: Loss: 0.00217 PSNR: 27.32402\n",
      "Checkpoint saved to D:\\workspaces\\srcnn\\checkpoin_dir\\models_epoch_0082_loss_0.002169.pth\n",
      "===> Training\n"
     ]
    },
    {
     "name": "stderr",
     "output_type": "stream",
     "text": [
      "100%|██████████████████████████████████████████████████████████████████████████████████| 59/59 [00:37<00:00,  1.89it/s]\n"
     ]
    },
    {
     "name": "stdout",
     "output_type": "stream",
     "text": [
      "Training 37.20s => Epoch[83/100]: Loss: 0.00283 PSNR: 25.54575\n",
      "===> Validation\n"
     ]
    },
    {
     "name": "stderr",
     "output_type": "stream",
     "text": [
      "100%|████████████████████████████████████████████████████████████████████████████████████| 9/9 [00:04<00:00,  2.02it/s]\n"
     ]
    },
    {
     "name": "stdout",
     "output_type": "stream",
     "text": [
      "Validation 4.44s => Epoch[83/100]: Loss: 0.00217 PSNR: 27.32903\n",
      "Checkpoint saved to D:\\workspaces\\srcnn\\checkpoin_dir\\models_epoch_0083_loss_0.002167.pth\n",
      "===> Training\n"
     ]
    },
    {
     "name": "stderr",
     "output_type": "stream",
     "text": [
      "100%|██████████████████████████████████████████████████████████████████████████████████| 59/59 [00:37<00:00,  1.86it/s]\n"
     ]
    },
    {
     "name": "stdout",
     "output_type": "stream",
     "text": [
      "Training 37.16s => Epoch[84/100]: Loss: 0.00283 PSNR: 25.53359\n",
      "===> Validation\n"
     ]
    },
    {
     "name": "stderr",
     "output_type": "stream",
     "text": [
      "100%|████████████████████████████████████████████████████████████████████████████████████| 9/9 [00:04<00:00,  2.01it/s]\n"
     ]
    },
    {
     "name": "stdout",
     "output_type": "stream",
     "text": [
      "Validation 4.50s => Epoch[84/100]: Loss: 0.00217 PSNR: 27.32287\n",
      "Checkpoint saved to D:\\workspaces\\srcnn\\checkpoin_dir\\models_epoch_0084_loss_0.002169.pth\n",
      "===> Training\n"
     ]
    },
    {
     "name": "stderr",
     "output_type": "stream",
     "text": [
      "100%|██████████████████████████████████████████████████████████████████████████████████| 59/59 [00:37<00:00,  1.87it/s]\n"
     ]
    },
    {
     "name": "stdout",
     "output_type": "stream",
     "text": [
      "Training 37.47s => Epoch[85/100]: Loss: 0.00284 PSNR: 25.52974\n",
      "===> Validation\n"
     ]
    },
    {
     "name": "stderr",
     "output_type": "stream",
     "text": [
      "100%|████████████████████████████████████████████████████████████████████████████████████| 9/9 [00:04<00:00,  2.01it/s]\n"
     ]
    },
    {
     "name": "stdout",
     "output_type": "stream",
     "text": [
      "Validation 4.45s => Epoch[85/100]: Loss: 0.00216 PSNR: 27.33607\n",
      "Checkpoint saved to D:\\workspaces\\srcnn\\checkpoin_dir\\models_epoch_0085_loss_0.002165.pth\n",
      "===> Training\n"
     ]
    },
    {
     "name": "stderr",
     "output_type": "stream",
     "text": [
      "100%|██████████████████████████████████████████████████████████████████████████████████| 59/59 [00:37<00:00,  1.87it/s]\n"
     ]
    },
    {
     "name": "stdout",
     "output_type": "stream",
     "text": [
      "Training 37.69s => Epoch[86/100]: Loss: 0.00283 PSNR: 25.53321\n",
      "===> Validation\n"
     ]
    },
    {
     "name": "stderr",
     "output_type": "stream",
     "text": [
      "100%|████████████████████████████████████████████████████████████████████████████████████| 9/9 [00:04<00:00,  2.08it/s]\n"
     ]
    },
    {
     "name": "stdout",
     "output_type": "stream",
     "text": [
      "Validation 4.41s => Epoch[86/100]: Loss: 0.00216 PSNR: 27.34020\n",
      "Checkpoint saved to D:\\workspaces\\srcnn\\checkpoin_dir\\models_epoch_0086_loss_0.002163.pth\n",
      "===> Training\n"
     ]
    },
    {
     "name": "stderr",
     "output_type": "stream",
     "text": [
      "100%|██████████████████████████████████████████████████████████████████████████████████| 59/59 [00:37<00:00,  1.84it/s]\n"
     ]
    },
    {
     "name": "stdout",
     "output_type": "stream",
     "text": [
      "Training 37.24s => Epoch[87/100]: Loss: 0.00282 PSNR: 25.53559\n",
      "===> Validation\n"
     ]
    },
    {
     "name": "stderr",
     "output_type": "stream",
     "text": [
      "100%|████████████████████████████████████████████████████████████████████████████████████| 9/9 [00:04<00:00,  2.08it/s]\n"
     ]
    },
    {
     "name": "stdout",
     "output_type": "stream",
     "text": [
      "Validation 4.40s => Epoch[87/100]: Loss: 0.00216 PSNR: 27.34243\n",
      "Checkpoint saved to D:\\workspaces\\srcnn\\checkpoin_dir\\models_epoch_0087_loss_0.002162.pth\n",
      "===> Training\n"
     ]
    },
    {
     "name": "stderr",
     "output_type": "stream",
     "text": [
      "100%|██████████████████████████████████████████████████████████████████████████████████| 59/59 [00:36<00:00,  1.85it/s]\n"
     ]
    },
    {
     "name": "stdout",
     "output_type": "stream",
     "text": [
      "Training 37.00s => Epoch[88/100]: Loss: 0.00282 PSNR: 25.55688\n",
      "===> Validation\n"
     ]
    },
    {
     "name": "stderr",
     "output_type": "stream",
     "text": [
      "100%|████████████████████████████████████████████████████████████████████████████████████| 9/9 [00:04<00:00,  2.07it/s]\n"
     ]
    },
    {
     "name": "stdout",
     "output_type": "stream",
     "text": [
      "Validation 4.41s => Epoch[88/100]: Loss: 0.00216 PSNR: 27.33825\n",
      "Checkpoint saved to D:\\workspaces\\srcnn\\checkpoin_dir\\models_epoch_0088_loss_0.002163.pth\n",
      "===> Training\n"
     ]
    },
    {
     "name": "stderr",
     "output_type": "stream",
     "text": [
      "100%|██████████████████████████████████████████████████████████████████████████████████| 59/59 [00:37<00:00,  1.89it/s]\n"
     ]
    },
    {
     "name": "stdout",
     "output_type": "stream",
     "text": [
      "Training 37.01s => Epoch[89/100]: Loss: 0.00283 PSNR: 25.55287\n",
      "===> Validation\n"
     ]
    },
    {
     "name": "stderr",
     "output_type": "stream",
     "text": [
      "100%|████████████████████████████████████████████████████████████████████████████████████| 9/9 [00:04<00:00,  2.05it/s]\n"
     ]
    },
    {
     "name": "stdout",
     "output_type": "stream",
     "text": [
      "Validation 4.39s => Epoch[89/100]: Loss: 0.00216 PSNR: 27.34747\n",
      "Checkpoint saved to D:\\workspaces\\srcnn\\checkpoin_dir\\models_epoch_0089_loss_0.002160.pth\n",
      "===> Training\n"
     ]
    },
    {
     "name": "stderr",
     "output_type": "stream",
     "text": [
      "100%|██████████████████████████████████████████████████████████████████████████████████| 59/59 [00:37<00:00,  1.87it/s]\n"
     ]
    },
    {
     "name": "stdout",
     "output_type": "stream",
     "text": [
      "Training 37.02s => Epoch[90/100]: Loss: 0.00281 PSNR: 25.59996\n",
      "===> Validation\n"
     ]
    },
    {
     "name": "stderr",
     "output_type": "stream",
     "text": [
      "100%|████████████████████████████████████████████████████████████████████████████████████| 9/9 [00:04<00:00,  2.09it/s]\n"
     ]
    },
    {
     "name": "stdout",
     "output_type": "stream",
     "text": [
      "Validation 4.36s => Epoch[90/100]: Loss: 0.00216 PSNR: 27.35675\n",
      "Checkpoint saved to D:\\workspaces\\srcnn\\checkpoin_dir\\models_epoch_0090_loss_0.002156.pth\n",
      "===> Training\n"
     ]
    },
    {
     "name": "stderr",
     "output_type": "stream",
     "text": [
      "100%|██████████████████████████████████████████████████████████████████████████████████| 59/59 [00:37<00:00,  1.86it/s]\n"
     ]
    },
    {
     "name": "stdout",
     "output_type": "stream",
     "text": [
      "Training 37.20s => Epoch[91/100]: Loss: 0.00282 PSNR: 25.55970\n",
      "===> Validation\n"
     ]
    },
    {
     "name": "stderr",
     "output_type": "stream",
     "text": [
      "100%|████████████████████████████████████████████████████████████████████████████████████| 9/9 [00:04<00:00,  2.06it/s]\n"
     ]
    },
    {
     "name": "stdout",
     "output_type": "stream",
     "text": [
      "Validation 4.43s => Epoch[91/100]: Loss: 0.00216 PSNR: 27.35945\n",
      "Checkpoint saved to D:\\workspaces\\srcnn\\checkpoin_dir\\models_epoch_0091_loss_0.002156.pth\n",
      "===> Training\n"
     ]
    },
    {
     "name": "stderr",
     "output_type": "stream",
     "text": [
      "100%|██████████████████████████████████████████████████████████████████████████████████| 59/59 [00:37<00:00,  1.86it/s]\n"
     ]
    },
    {
     "name": "stdout",
     "output_type": "stream",
     "text": [
      "Training 37.73s => Epoch[92/100]: Loss: 0.00282 PSNR: 25.55561\n",
      "===> Validation\n"
     ]
    },
    {
     "name": "stderr",
     "output_type": "stream",
     "text": [
      "100%|████████████████████████████████████████████████████████████████████████████████████| 9/9 [00:04<00:00,  2.01it/s]\n"
     ]
    },
    {
     "name": "stdout",
     "output_type": "stream",
     "text": [
      "Validation 4.42s => Epoch[92/100]: Loss: 0.00215 PSNR: 27.36600\n",
      "Checkpoint saved to D:\\workspaces\\srcnn\\checkpoin_dir\\models_epoch_0092_loss_0.002153.pth\n",
      "===> Training\n"
     ]
    },
    {
     "name": "stderr",
     "output_type": "stream",
     "text": [
      "100%|██████████████████████████████████████████████████████████████████████████████████| 59/59 [00:37<00:00,  1.87it/s]\n"
     ]
    },
    {
     "name": "stdout",
     "output_type": "stream",
     "text": [
      "Training 37.10s => Epoch[93/100]: Loss: 0.00281 PSNR: 25.57657\n",
      "===> Validation\n"
     ]
    },
    {
     "name": "stderr",
     "output_type": "stream",
     "text": [
      "100%|████████████████████████████████████████████████████████████████████████████████████| 9/9 [00:04<00:00,  2.06it/s]\n"
     ]
    },
    {
     "name": "stdout",
     "output_type": "stream",
     "text": [
      "Validation 4.46s => Epoch[93/100]: Loss: 0.00215 PSNR: 27.36712\n",
      "Checkpoint saved to D:\\workspaces\\srcnn\\checkpoin_dir\\models_epoch_0093_loss_0.002153.pth\n",
      "===> Training\n"
     ]
    },
    {
     "name": "stderr",
     "output_type": "stream",
     "text": [
      "100%|██████████████████████████████████████████████████████████████████████████████████| 59/59 [00:37<00:00,  1.80it/s]\n"
     ]
    },
    {
     "name": "stdout",
     "output_type": "stream",
     "text": [
      "Training 37.26s => Epoch[94/100]: Loss: 0.00282 PSNR: 25.56120\n",
      "===> Validation\n"
     ]
    },
    {
     "name": "stderr",
     "output_type": "stream",
     "text": [
      "100%|████████████████████████████████████████████████████████████████████████████████████| 9/9 [00:04<00:00,  2.09it/s]\n"
     ]
    },
    {
     "name": "stdout",
     "output_type": "stream",
     "text": [
      "Validation 4.32s => Epoch[94/100]: Loss: 0.00215 PSNR: 27.36881\n",
      "Checkpoint saved to D:\\workspaces\\srcnn\\checkpoin_dir\\models_epoch_0094_loss_0.002152.pth\n",
      "===> Training\n"
     ]
    },
    {
     "name": "stderr",
     "output_type": "stream",
     "text": [
      "100%|██████████████████████████████████████████████████████████████████████████████████| 59/59 [00:37<00:00,  1.88it/s]\n"
     ]
    },
    {
     "name": "stdout",
     "output_type": "stream",
     "text": [
      "Training 37.18s => Epoch[95/100]: Loss: 0.00281 PSNR: 25.56867\n",
      "===> Validation\n"
     ]
    },
    {
     "name": "stderr",
     "output_type": "stream",
     "text": [
      "100%|████████████████████████████████████████████████████████████████████████████████████| 9/9 [00:04<00:00,  2.09it/s]\n"
     ]
    },
    {
     "name": "stdout",
     "output_type": "stream",
     "text": [
      "Validation 4.41s => Epoch[95/100]: Loss: 0.00215 PSNR: 27.37510\n",
      "Checkpoint saved to D:\\workspaces\\srcnn\\checkpoin_dir\\models_epoch_0095_loss_0.002150.pth\n",
      "===> Training\n"
     ]
    },
    {
     "name": "stderr",
     "output_type": "stream",
     "text": [
      "100%|██████████████████████████████████████████████████████████████████████████████████| 59/59 [00:37<00:00,  1.88it/s]\n"
     ]
    },
    {
     "name": "stdout",
     "output_type": "stream",
     "text": [
      "Training 37.81s => Epoch[96/100]: Loss: 0.00280 PSNR: 25.59423\n",
      "===> Validation\n"
     ]
    },
    {
     "name": "stderr",
     "output_type": "stream",
     "text": [
      "100%|████████████████████████████████████████████████████████████████████████████████████| 9/9 [00:04<00:00,  2.08it/s]\n"
     ]
    },
    {
     "name": "stdout",
     "output_type": "stream",
     "text": [
      "Validation 4.44s => Epoch[96/100]: Loss: 0.00215 PSNR: 27.37763\n",
      "Checkpoint saved to D:\\workspaces\\srcnn\\checkpoin_dir\\models_epoch_0096_loss_0.002149.pth\n",
      "===> Training\n"
     ]
    },
    {
     "name": "stderr",
     "output_type": "stream",
     "text": [
      "100%|██████████████████████████████████████████████████████████████████████████████████| 59/59 [00:37<00:00,  1.86it/s]\n"
     ]
    },
    {
     "name": "stdout",
     "output_type": "stream",
     "text": [
      "Training 37.13s => Epoch[97/100]: Loss: 0.00280 PSNR: 25.60094\n",
      "===> Validation\n"
     ]
    },
    {
     "name": "stderr",
     "output_type": "stream",
     "text": [
      "100%|████████████████████████████████████████████████████████████████████████████████████| 9/9 [00:04<00:00,  2.04it/s]\n"
     ]
    },
    {
     "name": "stdout",
     "output_type": "stream",
     "text": [
      "Validation 4.45s => Epoch[97/100]: Loss: 0.00215 PSNR: 27.37968\n",
      "Checkpoint saved to D:\\workspaces\\srcnn\\checkpoin_dir\\models_epoch_0097_loss_0.002148.pth\n",
      "===> Training\n"
     ]
    },
    {
     "name": "stderr",
     "output_type": "stream",
     "text": [
      "100%|██████████████████████████████████████████████████████████████████████████████████| 59/59 [00:37<00:00,  1.87it/s]\n"
     ]
    },
    {
     "name": "stdout",
     "output_type": "stream",
     "text": [
      "Training 37.46s => Epoch[98/100]: Loss: 0.00281 PSNR: 25.59707\n",
      "===> Validation\n"
     ]
    },
    {
     "name": "stderr",
     "output_type": "stream",
     "text": [
      "100%|████████████████████████████████████████████████████████████████████████████████████| 9/9 [00:04<00:00,  2.08it/s]\n"
     ]
    },
    {
     "name": "stdout",
     "output_type": "stream",
     "text": [
      "Validation 4.44s => Epoch[98/100]: Loss: 0.00216 PSNR: 27.33614\n",
      "Checkpoint saved to D:\\workspaces\\srcnn\\checkpoin_dir\\models_epoch_0098_loss_0.002164.pth\n",
      "===> Training\n"
     ]
    },
    {
     "name": "stderr",
     "output_type": "stream",
     "text": [
      "100%|██████████████████████████████████████████████████████████████████████████████████| 59/59 [00:37<00:00,  1.85it/s]\n"
     ]
    },
    {
     "name": "stdout",
     "output_type": "stream",
     "text": [
      "Training 37.56s => Epoch[99/100]: Loss: 0.00279 PSNR: 25.63083\n",
      "===> Validation\n"
     ]
    },
    {
     "name": "stderr",
     "output_type": "stream",
     "text": [
      "100%|████████████████████████████████████████████████████████████████████████████████████| 9/9 [00:04<00:00,  2.04it/s]\n"
     ]
    },
    {
     "name": "stdout",
     "output_type": "stream",
     "text": [
      "Validation 4.42s => Epoch[99/100]: Loss: 0.00215 PSNR: 27.38579\n",
      "Checkpoint saved to D:\\workspaces\\srcnn\\checkpoin_dir\\models_epoch_0099_loss_0.002146.pth\n"
     ]
    }
   ],
   "source": [
    "train_dir = opt.train_dir\n",
    "valid_dir = opt.valid_dir\n",
    "print(\"train_dir is: {}\".format(train_dir))\n",
    "print(\"valid_dir is: {}\".format(valid_dir))\n",
    "\n",
    "target_size = (opt.lr_img * opt.res_scale, opt.lr_img * opt.res_scale)\n",
    "\n",
    "\n",
    "train_dataset = DatasetFromFolder(train_dir)\n",
    "valid_dataset = DatasetFromFolder(valid_dir)\n",
    "\n",
    "training_data_loader = DataLoader(dataset=train_dataset,\n",
    "                                  batch_size=opt.batch_size,\n",
    "                                  shuffle=True)\n",
    "validation_data_loader = DataLoader(dataset=valid_dataset,\n",
    "                                    batch_size=opt.batch_size,\n",
    "                                    shuffle=False)\n",
    "\n",
    "run_train(opt, training_data_loader, validation_data_loader)"
   ]
  },
  {
   "cell_type": "code",
   "execution_count": 13,
   "metadata": {},
   "outputs": [],
   "source": [
    "from skimage.measure import compare_ssim as ssim\n",
    "from skimage.measure import compare_psnr as psnr"
   ]
  },
  {
   "cell_type": "code",
   "execution_count": 14,
   "metadata": {},
   "outputs": [],
   "source": [
    "def get_test_dataset(data_dir, res_scale):\n",
    "    lr_dir = os.path.join(data_dir, 'lrx' + str(res_scale))\n",
    "    hr_dir = os.path.join(data_dir, 'hr')\n",
    "        \n",
    "    dsets = {}\n",
    "    dsets['lr'] = [os.path.join(lr_dir, x) for x in os.listdir(lr_dir)]\n",
    "    dsets['hr'] = [os.path.join(hr_dir, x) for x in os.listdir(hr_dir)]\n",
    "    dsets['file_name'] = os.listdir(hr_dir)\n",
    "    \n",
    "    return dsets"
   ]
  },
  {
   "cell_type": "code",
   "execution_count": 22,
   "metadata": {},
   "outputs": [],
   "source": [
    "def test_model(opt, test_dataset):\n",
    "    \n",
    "    lr_list = test_dataset['lr']\n",
    "    hr_list = test_dataset['hr']\n",
    "    filename_list = test_dataset['file_name']\n",
    "    \n",
    "    sr_compare_dir = os.path.join(opt.test_result_dir, \"compare\")\n",
    "    sr_result_dir = os.path.join(opt.test_result_dir, \"sr\")\n",
    "\n",
    "    if not os.path.exists(sr_result_dir):\n",
    "        os.makedirs(sr_result_dir)\n",
    "    if not os.path.exists(sr_compare_dir):\n",
    "        os.makedirs(sr_compare_dir)\n",
    "\n",
    "    opt.resume_best = True\n",
    "    _, srcnn = load_model(opt.checkpoint_dir)\n",
    "    criterion = nn.MSELoss()\n",
    "\n",
    "    if torch.cuda.device_count() > 1 and opt.multi_gpu:\n",
    "        print(\"Use \" + str(torch.cuda.device_count()) + \" GPUs\")\n",
    "        srcnn = nn.DataParallel(srcnn)\n",
    "\n",
    "    use_cuda = torch.cuda.is_available()\n",
    "    if use_cuda:\n",
    "        srcnn = srcnn.to(opt.device)\n",
    "        criterion = criterion.to(opt.device)\n",
    "\n",
    "    hr_img_sz = (opt.lr_img * opt.res_scale, opt.lr_img * opt.res_scale)\n",
    "    result_img = np.zeros((hr_img_sz[0], hr_img_sz[1] * 3, opt.n_channels))\n",
    "\n",
    "    with torch.no_grad():\n",
    "        total_num = 0\n",
    "        sum_bicubic_psnr = 0.\n",
    "        sum_sr_psnr = 0.\n",
    "        sum_bicubic_ssim = 0.\n",
    "        sum_sr_ssim = 0.\n",
    "        \n",
    "        avg_bicubic_psnr = 0.\n",
    "        avg_sr_psnr = 0.\n",
    "        avg_bicubic_ssim = 0.\n",
    "        avg_sr_ssim = 0.\n",
    "\n",
    "        start_time = time.time()\n",
    "        for batch in zip(lr_list, hr_list, filename_list):\n",
    "            input_path, target_path, file_name = batch[0], batch[1], batch[2]\n",
    "            \n",
    "            input = cv2.imread(input_path)\n",
    "            target = cv2.imread(target_path)\n",
    "            \n",
    "            input = cv2.resize(input, (target.shape[1], target.shape[0]), interpolation=cv2.INTER_CUBIC)\n",
    "            \n",
    "            input = normalize_img(input)\n",
    "            target = normalize_img(target)\n",
    "            \n",
    "            input = np.transpose(input, (2, 0, 1))\n",
    "            target = np.transpose(target, (2, 0, 1))\n",
    "            \n",
    "            input = input.reshape(1, input.shape[0], input.shape[1], input.shape[2])\n",
    "            target = target.reshape(1, target.shape[0], target.shape[1], target.shape[2])\n",
    "            \n",
    "            input = torch.from_numpy(input).type(torch.FloatTensor)\n",
    "            target = torch.from_numpy(target).type(torch.FloatTensor)\n",
    "\n",
    "            if use_cuda:\n",
    "                input = input.to(opt.device)\n",
    "#                 target = target.to(opt.device)\n",
    "\n",
    "            out = srcnn(input)\n",
    "            \n",
    "            for i in range(input.size(0)): \n",
    "                if use_cuda:\n",
    "                    input_arr = input[i].detach().to('cpu').data.numpy()\n",
    "                    sr_arr = out[i].detach().to('cpu').data.numpy()\n",
    "                else:\n",
    "                    input_arr = input[i].data.numpy()\n",
    "                    sr_arr = out[i].data.numpy()\n",
    "                \n",
    "                target_arr = target[i].detach().data.numpy()\n",
    "        \n",
    "                input_arr = np.transpose(input_arr, (1, 2, 0))\n",
    "                sr_arr = np.transpose(sr_arr, (1, 2, 0))\n",
    "                target_arr = np.transpose(target_arr, (1, 2, 0))\n",
    "                \n",
    "                sr_arr[sr_arr < 0.] = 0\n",
    "                sr_arr[sr_arr > 1.] = 1.\n",
    "                \n",
    "                compare_img = np.concatenate((input_arr, sr_arr, target_arr), axis=1)\n",
    "            \n",
    "                bicubic_psnr = psnr(input_arr, target_arr)\n",
    "                sr_psnr = psnr(sr_arr, target_arr)\n",
    "                \n",
    "                sum_bicubic_psnr += bicubic_psnr\n",
    "                sum_sr_psnr += sr_psnr\n",
    "                \n",
    "                bicubic_ssim = ssim(input_arr, target_arr, multichannel=True)\n",
    "                sr_ssim = ssim(sr_arr, target_arr, multichannel=True)\n",
    "                \n",
    "                sum_bicubic_ssim += bicubic_ssim\n",
    "                sum_sr_ssim += sr_ssim\n",
    "                \n",
    "                \n",
    "                \n",
    "                compare_img = compare_img * 255\n",
    "                compare_img = compare_img.astype(np.int16)\n",
    "                sr_arr = sr_arr * 255\n",
    "                sr_arr = sr_arr.astype(np.int16)\n",
    "                cv2.imwrite(os.path.join(sr_compare_dir, file_name), compare_img)\n",
    "                cv2.imwrite(os.path.join(sr_result_dir, file_name), sr_arr)\n",
    "                \n",
    "                print(file_name)\n",
    "                print(\"Bicubic PSNR: {:.8f}, Bicubic SSIM: {:.8f}, SR PSNR: {:.8f}, SR SSIM: {:.8f}\".format(\n",
    "                    bicubic_psnr, bicubic_ssim, sr_psnr, sr_ssim))\n",
    "                total_num += 1\n",
    "\n",
    "        avg_bicubic_psnr = sum_bicubic_psnr / total_num\n",
    "        avg_sr_psnr = sum_sr_psnr / total_num\n",
    "        \n",
    "        avg_bicubic_ssim = sum_bicubic_ssim / total_num\n",
    "        avg_sr_ssim = sum_sr_ssim / total_num\n",
    "\n",
    "        print(\"Time: {:.2f}\".format(time.time() - start_time))\n",
    "        print(\"Bicubic PSNR: {:.8f}\".format(avg_bicubic_psnr))\n",
    "        print(\"Bicubic SSIM: {:.8f}\".format(avg_bicubic_ssim))\n",
    "        print(\"SR PSNR: {:.8f}\".format(avg_sr_psnr))\n",
    "        print(\"SR SSIM: {:.8f}\".format(avg_sr_ssim))"
   ]
  },
  {
   "cell_type": "code",
   "execution_count": null,
   "metadata": {},
   "outputs": [
    {
     "name": "stdout",
     "output_type": "stream",
     "text": [
      "test_dir is: ../../data/super-resolution/div2k_100/test_images\n",
      "=> loading checkpoint './checkpoin_dir\\models_epoch_0072_loss_0.000744.pth'\n",
      "=> loaded checkpoint './checkpoin_dir\\models_epoch_0072_loss_0.000744.pth' (epoch 72)\n"
     ]
    },
    {
     "name": "stderr",
     "output_type": "stream",
     "text": [
      "C:\\Users\\Kim Wonjin\\Anaconda3\\envs\\pytorch\\lib\\site-packages\\skimage\\util\\arraycrop.py:177: FutureWarning: Using a non-tuple sequence for multidimensional indexing is deprecated; use `arr[tuple(seq)]` instead of `arr[seq]`. In the future this will be interpreted as an array index, `arr[np.array(seq)]`, which will result either in an error or a different result.\n",
      "  cropped = ar[slices]\n"
     ]
    },
    {
     "name": "stdout",
     "output_type": "stream",
     "text": [
      "compare_img.shape (1356, 6120, 3)\n",
      "Bicubic PSNR: 27.81960990, Bicubic SSIM: 0.87595368, SR PSNR: 27.80955660, SR SSIM: 0.87561386\n",
      "compare_img.shape (1356, 6120, 3)\n",
      "Bicubic PSNR: 33.32116732, Bicubic SSIM: 0.94298285, SR PSNR: 33.23469050, SR SSIM: 0.94180582\n",
      "compare_img.shape (1536, 6120, 3)\n",
      "Bicubic PSNR: 33.83670666, Bicubic SSIM: 0.97025949, SR PSNR: 33.76645518, SR SSIM: 0.96967952\n",
      "compare_img.shape (1200, 6120, 3)\n",
      "Bicubic PSNR: 25.53478187, Bicubic SSIM: 0.82505902, SR PSNR: 25.55809274, SR SSIM: 0.82554359\n",
      "compare_img.shape (1536, 6120, 3)\n",
      "Bicubic PSNR: 27.64316433, Bicubic SSIM: 0.85462274, SR PSNR: 27.63555900, SR SSIM: 0.85431899\n",
      "compare_img.shape (1356, 6120, 3)\n",
      "Bicubic PSNR: 26.36812322, Bicubic SSIM: 0.88640848, SR PSNR: 26.39100874, SR SSIM: 0.88668670\n",
      "compare_img.shape (1128, 6120, 3)\n",
      "Bicubic PSNR: 19.48238530, Bicubic SSIM: 0.59163870, SR PSNR: 19.50183456, SR SSIM: 0.59288177\n",
      "compare_img.shape (1356, 6120, 3)\n",
      "Bicubic PSNR: 25.55884682, Bicubic SSIM: 0.85316542, SR PSNR: 25.57754685, SR SSIM: 0.85346708\n",
      "compare_img.shape (1356, 6120, 3)\n",
      "Bicubic PSNR: 30.66242551, Bicubic SSIM: 0.90381357, SR PSNR: 30.61608403, SR SSIM: 0.90321313\n",
      "compare_img.shape (1536, 6120, 3)\n",
      "Bicubic PSNR: 25.90897826, Bicubic SSIM: 0.82592593, SR PSNR: 25.91464383, SR SSIM: 0.82637487\n",
      "compare_img.shape (1356, 6120, 3)\n",
      "Bicubic PSNR: 28.12670570, Bicubic SSIM: 0.85774052, SR PSNR: 28.12388710, SR SSIM: 0.85770871\n",
      "compare_img.shape (1536, 6120, 3)\n",
      "Bicubic PSNR: 25.72458794, Bicubic SSIM: 0.83809377, SR PSNR: 25.75323519, SR SSIM: 0.83866582\n",
      "compare_img.shape (1464, 6120, 3)\n",
      "Bicubic PSNR: 28.99990656, Bicubic SSIM: 0.91613322, SR PSNR: 29.00990341, SR SSIM: 0.91567441\n",
      "compare_img.shape (1356, 6120, 3)\n",
      "Bicubic PSNR: 26.68529206, Bicubic SSIM: 0.90935728, SR PSNR: 26.70499565, SR SSIM: 0.90989081\n",
      "compare_img.shape (1356, 6120, 3)\n",
      "Bicubic PSNR: 31.86386615, Bicubic SSIM: 0.94664977, SR PSNR: 31.83277672, SR SSIM: 0.94606872\n",
      "compare_img.shape (1356, 6120, 3)\n",
      "Bicubic PSNR: 29.83304453, Bicubic SSIM: 0.89333578, SR PSNR: 29.84007330, SR SSIM: 0.89347021\n",
      "compare_img.shape (1536, 6120, 3)\n",
      "Bicubic PSNR: 30.18059768, Bicubic SSIM: 0.92273634, SR PSNR: 30.13385779, SR SSIM: 0.92199959\n",
      "compare_img.shape (1536, 6120, 3)\n",
      "Bicubic PSNR: 26.71585183, Bicubic SSIM: 0.90425024, SR PSNR: 26.74826318, SR SSIM: 0.90448213\n",
      "compare_img.shape (1356, 6120, 3)\n",
      "Bicubic PSNR: 26.51451066, Bicubic SSIM: 0.84457466, SR PSNR: 26.51848535, SR SSIM: 0.84477577\n",
      "compare_img.shape (1356, 6120, 3)\n",
      "Bicubic PSNR: 21.77853056, Bicubic SSIM: 0.77062873, SR PSNR: 21.85811043, SR SSIM: 0.77359808\n",
      "compare_img.shape (1356, 6120, 3)\n",
      "Bicubic PSNR: 25.54491116, Bicubic SSIM: 0.88780819, SR PSNR: 25.73297822, SR SSIM: 0.88882164\n",
      "compare_img.shape (1596, 6120, 3)\n",
      "Bicubic PSNR: 28.17316572, Bicubic SSIM: 0.87879939, SR PSNR: 28.17450860, SR SSIM: 0.87863101\n",
      "compare_img.shape (1284, 6120, 3)\n",
      "Bicubic PSNR: 24.47047900, Bicubic SSIM: 0.84258367, SR PSNR: 24.49189318, SR SSIM: 0.84206466\n",
      "compare_img.shape (1356, 6120, 3)\n",
      "Bicubic PSNR: 25.43759170, Bicubic SSIM: 0.88920322, SR PSNR: 25.49875447, SR SSIM: 0.88977818\n",
      "compare_img.shape (1356, 6120, 3)\n",
      "Bicubic PSNR: 24.90664828, Bicubic SSIM: 0.83833154, SR PSNR: 24.94098806, SR SSIM: 0.83827835\n",
      "compare_img.shape (1536, 6120, 3)\n",
      "Bicubic PSNR: 23.04940024, Bicubic SSIM: 0.78768192, SR PSNR: 23.07563708, SR SSIM: 0.78843498\n",
      "compare_img.shape (1536, 6120, 3)\n",
      "Bicubic PSNR: 30.59153794, Bicubic SSIM: 0.92935071, SR PSNR: 30.60989220, SR SSIM: 0.92954535\n",
      "compare_img.shape (1356, 6120, 3)\n",
      "Bicubic PSNR: 16.54685622, Bicubic SSIM: 0.70884898, SR PSNR: 16.60245741, SR SSIM: 0.71281133\n",
      "compare_img.shape (1356, 6120, 3)\n",
      "Bicubic PSNR: 26.01559715, Bicubic SSIM: 0.73602090, SR PSNR: 26.00693390, SR SSIM: 0.73603925\n",
      "compare_img.shape (816, 6120, 3)\n",
      "Bicubic PSNR: 23.65051712, Bicubic SSIM: 0.77931094, SR PSNR: 23.67291462, SR SSIM: 0.78036521\n",
      "compare_img.shape (1356, 6120, 3)\n",
      "Bicubic PSNR: 26.91921517, Bicubic SSIM: 0.87584561, SR PSNR: 26.96192212, SR SSIM: 0.87612115\n",
      "compare_img.shape (1356, 6120, 3)\n",
      "Bicubic PSNR: 27.74788095, Bicubic SSIM: 0.89826095, SR PSNR: 27.76664202, SR SSIM: 0.89825635\n",
      "compare_img.shape (1548, 6120, 3)\n",
      "Bicubic PSNR: 30.24051962, Bicubic SSIM: 0.93925915, SR PSNR: 30.31956520, SR SSIM: 0.93932999\n",
      "compare_img.shape (1356, 6120, 3)\n",
      "Bicubic PSNR: 24.48332095, Bicubic SSIM: 0.81370747, SR PSNR: 24.50534511, SR SSIM: 0.81470431\n",
      "compare_img.shape (2040, 4860, 3)\n",
      "Bicubic PSNR: 22.25152601, Bicubic SSIM: 0.67692725, SR PSNR: 22.26932660, SR SSIM: 0.67873456\n",
      "compare_img.shape (1536, 6120, 3)\n",
      "Bicubic PSNR: 23.28214897, Bicubic SSIM: 0.80093721, SR PSNR: 23.33899656, SR SSIM: 0.80221463\n",
      "compare_img.shape (1356, 6120, 3)\n",
      "Bicubic PSNR: 23.91273261, Bicubic SSIM: 0.81741206, SR PSNR: 23.94036782, SR SSIM: 0.81798264\n",
      "compare_img.shape (1356, 6120, 3)\n",
      "Bicubic PSNR: 37.00873956, Bicubic SSIM: 0.96326859, SR PSNR: 36.91797251, SR SSIM: 0.96293966\n",
      "compare_img.shape (1356, 6120, 3)\n",
      "Bicubic PSNR: 28.24407791, Bicubic SSIM: 0.87506477, SR PSNR: 28.24474118, SR SSIM: 0.87469547\n",
      "compare_img.shape (1356, 6120, 3)\n",
      "Bicubic PSNR: 27.13524457, Bicubic SSIM: 0.85737543, SR PSNR: 27.14245855, SR SSIM: 0.85744943\n",
      "compare_img.shape (1356, 6120, 3)\n",
      "Bicubic PSNR: 26.34353588, Bicubic SSIM: 0.88081175, SR PSNR: 26.36755898, SR SSIM: 0.88122152\n",
      "compare_img.shape (1356, 6120, 3)\n",
      "Bicubic PSNR: 28.47371216, Bicubic SSIM: 0.89517253, SR PSNR: 28.46847726, SR SSIM: 0.89510109\n",
      "compare_img.shape (1356, 6120, 3)\n",
      "Bicubic PSNR: 37.20594754, Bicubic SSIM: 0.98682148, SR PSNR: 37.24525278, SR SSIM: 0.98663537\n",
      "compare_img.shape (2040, 4068, 3)\n",
      "Bicubic PSNR: 38.21593862, Bicubic SSIM: 0.98993518, SR PSNR: 38.16222387, SR SSIM: 0.98968927\n",
      "compare_img.shape (1356, 6120, 3)\n",
      "Bicubic PSNR: 21.51880811, Bicubic SSIM: 0.76818275, SR PSNR: 21.57255978, SR SSIM: 0.77052255\n",
      "compare_img.shape (1368, 6120, 3)\n",
      "Bicubic PSNR: 22.31499806, Bicubic SSIM: 0.80119708, SR PSNR: 22.38503326, SR SSIM: 0.80306211\n",
      "compare_img.shape (2040, 4068, 3)\n",
      "Bicubic PSNR: 25.23326869, Bicubic SSIM: 0.84016136, SR PSNR: 25.27239963, SR SSIM: 0.84076875\n",
      "compare_img.shape (1536, 6120, 3)\n",
      "Bicubic PSNR: 25.16010928, Bicubic SSIM: 0.82875980, SR PSNR: 25.19336334, SR SSIM: 0.82868892\n",
      "compare_img.shape (1356, 6120, 3)\n",
      "Bicubic PSNR: 19.70307596, Bicubic SSIM: 0.73059640, SR PSNR: 19.73579101, SR SSIM: 0.73127510\n",
      "compare_img.shape (1356, 6120, 3)\n",
      "Bicubic PSNR: 26.83075770, Bicubic SSIM: 0.86581913, SR PSNR: 26.85843869, SR SSIM: 0.86615606\n",
      "compare_img.shape (1344, 6120, 3)\n",
      "Bicubic PSNR: 26.88112150, Bicubic SSIM: 0.91193659, SR PSNR: 26.88354399, SR SSIM: 0.91078063\n",
      "compare_img.shape (1152, 6120, 3)\n",
      "Bicubic PSNR: 29.03763803, Bicubic SSIM: 0.88883463, SR PSNR: 29.06310123, SR SSIM: 0.88928616\n",
      "compare_img.shape (1356, 6120, 3)\n",
      "Bicubic PSNR: 31.13330799, Bicubic SSIM: 0.95148978, SR PSNR: 31.12616517, SR SSIM: 0.95117542\n",
      "compare_img.shape (1068, 6120, 3)\n",
      "Bicubic PSNR: 23.49614046, Bicubic SSIM: 0.78285910, SR PSNR: 23.52225092, SR SSIM: 0.78350383\n",
      "compare_img.shape (2040, 6120, 3)\n",
      "Bicubic PSNR: 28.16703048, Bicubic SSIM: 0.85776654, SR PSNR: 28.17921972, SR SSIM: 0.85813290\n",
      "compare_img.shape (1356, 6120, 3)\n",
      "Bicubic PSNR: 23.30280580, Bicubic SSIM: 0.75279416, SR PSNR: 23.33081886, SR SSIM: 0.75464810\n",
      "compare_img.shape (1416, 6120, 3)\n",
      "Bicubic PSNR: 34.06907641, Bicubic SSIM: 0.92620568, SR PSNR: 34.02407590, SR SSIM: 0.92603055\n",
      "compare_img.shape (1356, 6120, 3)\n",
      "Bicubic PSNR: 27.13886634, Bicubic SSIM: 0.84342923, SR PSNR: 27.16035044, SR SSIM: 0.84388502\n",
      "compare_img.shape (1356, 6120, 3)\n",
      "Bicubic PSNR: 24.17425428, Bicubic SSIM: 0.75227594, SR PSNR: 24.18949796, SR SSIM: 0.75309027\n",
      "compare_img.shape (1536, 6120, 3)\n",
      "Bicubic PSNR: 19.74760074, Bicubic SSIM: 0.63883219, SR PSNR: 19.76659276, SR SSIM: 0.64072531\n",
      "compare_img.shape (1356, 6120, 3)\n",
      "Bicubic PSNR: 21.26325581, Bicubic SSIM: 0.73907385, SR PSNR: 21.30988638, SR SSIM: 0.74162588\n",
      "compare_img.shape (1356, 6120, 3)\n",
      "Bicubic PSNR: 32.48543864, Bicubic SSIM: 0.91536985, SR PSNR: 32.45841541, SR SSIM: 0.91526904\n",
      "compare_img.shape (2040, 4500, 3)\n",
      "Bicubic PSNR: 32.17722357, Bicubic SSIM: 0.94078696, SR PSNR: 32.12951221, SR SSIM: 0.94031048\n",
      "compare_img.shape (1356, 6120, 3)\n"
     ]
    },
    {
     "name": "stdout",
     "output_type": "stream",
     "text": [
      "Bicubic PSNR: 28.75535908, Bicubic SSIM: 0.85723777, SR PSNR: 28.76478057, SR SSIM: 0.85763227\n",
      "compare_img.shape (1536, 6120, 3)\n",
      "Bicubic PSNR: 26.39092556, Bicubic SSIM: 0.82852630, SR PSNR: 26.40218564, SR SSIM: 0.82885214\n",
      "compare_img.shape (2040, 4068, 3)\n",
      "Bicubic PSNR: 24.41139549, Bicubic SSIM: 0.83082862, SR PSNR: 24.40228232, SR SSIM: 0.83020680\n",
      "compare_img.shape (2040, 4068, 3)\n",
      "Bicubic PSNR: 26.25155571, Bicubic SSIM: 0.85844205, SR PSNR: 26.26804907, SR SSIM: 0.85844340\n",
      "compare_img.shape (1356, 6120, 3)\n",
      "Bicubic PSNR: 29.71478154, Bicubic SSIM: 0.95704323, SR PSNR: 29.73116951, SR SSIM: 0.95706084\n",
      "compare_img.shape (2040, 4068, 3)\n",
      "Bicubic PSNR: 22.81833749, Bicubic SSIM: 0.81158932, SR PSNR: 22.82565063, SR SSIM: 0.81210169\n",
      "compare_img.shape (1572, 6120, 3)\n",
      "Bicubic PSNR: 27.14461661, Bicubic SSIM: 0.87327448, SR PSNR: 27.12819886, SR SSIM: 0.87259109\n",
      "compare_img.shape (1356, 6120, 3)\n",
      "Bicubic PSNR: 29.59201544, Bicubic SSIM: 0.91634825, SR PSNR: 29.56388801, SR SSIM: 0.91555833\n",
      "compare_img.shape (1356, 6120, 3)\n",
      "Bicubic PSNR: 22.54583004, Bicubic SSIM: 0.74068455, SR PSNR: 22.56257902, SR SSIM: 0.74131944\n",
      "compare_img.shape (1356, 6120, 3)\n",
      "Bicubic PSNR: 22.77182958, Bicubic SSIM: 0.75543703, SR PSNR: 22.79043274, SR SSIM: 0.75689073\n",
      "compare_img.shape (1356, 6120, 3)\n",
      "Bicubic PSNR: 28.27860103, Bicubic SSIM: 0.85544726, SR PSNR: 28.28554319, SR SSIM: 0.85559614\n",
      "compare_img.shape (1536, 6120, 3)\n",
      "Bicubic PSNR: 22.49989144, Bicubic SSIM: 0.69607758, SR PSNR: 22.55887057, SR SSIM: 0.69846059\n",
      "compare_img.shape (1356, 6120, 3)\n",
      "Bicubic PSNR: 21.47820450, Bicubic SSIM: 0.63855577, SR PSNR: 21.49632614, SR SSIM: 0.64068772\n",
      "compare_img.shape (1152, 6120, 3)\n",
      "Bicubic PSNR: 35.65946704, Bicubic SSIM: 0.97318560, SR PSNR: 35.66936338, SR SSIM: 0.97307832\n",
      "compare_img.shape (1740, 6120, 3)\n",
      "Bicubic PSNR: 29.02440545, Bicubic SSIM: 0.91151792, SR PSNR: 29.02953118, SR SSIM: 0.91082188\n",
      "compare_img.shape (1872, 6120, 3)\n",
      "Bicubic PSNR: 25.51573373, Bicubic SSIM: 0.87471081, SR PSNR: 25.53952015, SR SSIM: 0.87525511\n",
      "compare_img.shape (2040, 4068, 3)\n",
      "Bicubic PSNR: 30.74460487, Bicubic SSIM: 0.92667743, SR PSNR: 30.71661342, SR SSIM: 0.92636334\n",
      "compare_img.shape (1260, 6120, 3)\n",
      "Bicubic PSNR: 25.03762744, Bicubic SSIM: 0.82620451, SR PSNR: 25.05694856, SR SSIM: 0.82684091\n",
      "compare_img.shape (1356, 6120, 3)\n",
      "Bicubic PSNR: 31.57349537, Bicubic SSIM: 0.96356569, SR PSNR: 31.50887994, SR SSIM: 0.96253313\n",
      "compare_img.shape (1380, 6120, 3)\n",
      "Bicubic PSNR: 25.04664691, Bicubic SSIM: 0.79283189, SR PSNR: 25.05573804, SR SSIM: 0.79342116\n",
      "compare_img.shape (1356, 6120, 3)\n",
      "Bicubic PSNR: 24.20699318, Bicubic SSIM: 0.77717060, SR PSNR: 24.21980372, SR SSIM: 0.77741705\n",
      "compare_img.shape (1356, 6120, 3)\n",
      "Bicubic PSNR: 21.91941097, Bicubic SSIM: 0.65895545, SR PSNR: 21.92274874, SR SSIM: 0.65886938\n"
     ]
    }
   ],
   "source": [
    "test_dir = opt.test_dir\n",
    "res_scale = opt.res_scale\n",
    "print(\"test_dir is: {}\".format(test_dir))\n",
    "\n",
    "test_dataset = get_test_dataset(test_dir, res_scale)\n",
    "\n",
    "test_model(opt, test_dataset)"
   ]
  },
  {
   "cell_type": "code",
   "execution_count": null,
   "metadata": {},
   "outputs": [],
   "source": []
  }
 ],
 "metadata": {
  "kernelspec": {
   "display_name": "Python 3",
   "language": "python",
   "name": "python3"
  },
  "language_info": {
   "codemirror_mode": {
    "name": "ipython",
    "version": 3
   },
   "file_extension": ".py",
   "mimetype": "text/x-python",
   "name": "python",
   "nbconvert_exporter": "python",
   "pygments_lexer": "ipython3",
   "version": "3.7.0"
  }
 },
 "nbformat": 4,
 "nbformat_minor": 2
}
